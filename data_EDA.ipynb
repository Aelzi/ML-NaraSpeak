{
 "cells": [
  {
   "cell_type": "markdown",
   "metadata": {},
   "source": [
    "# EDA Dataset"
   ]
  },
  {
   "cell_type": "code",
   "execution_count": null,
   "metadata": {},
   "outputs": [],
   "source": [
    "\n",
    "import warnings\n",
    "warnings.filterwarnings(\"ignore\")\n",
    "from tqdm import tqdm\n",
    "import pandas as pd\n",
    "import seaborn as sns\n",
    "import matplotlib.pyplot as plt\n",
    "import numpy as np\n",
    "import random\n",
    "import missingno as msno\n",
    "from google.colab import data_table\n",
    "from tabulate import tabulate\n",
    "import scipy.stats as st\n",
    "import matplotlib as mpl\n",
    "import matplotlib.patches as mpl_patches\n",
    "import matplotlib.cm as cm\n",
    "import matplotlib.lines as mlines\n",
    "import re\n",
    "import nltk\n",
    "import spacy\n",
    "from collections import defaultdict,Counter\n",
    "from nltk.corpus import stopwords\n",
    "from nltk.stem import WordNetLemmatizer,PorterStemmer\n",
    "from nltk.tokenize import word_tokenize\n",
    "from wordcloud import WordCloud, STOPWORDS\n",
    "from nltk.util import ngrams\n",
    "from sklearn.feature_extraction.text import CountVectorizer  \n",
    "from textblob import TextBlob\n",
    "from textstat import flesch_reading_ease\n",
    "tqdm.pandas()\n",
    "from nltk.sentiment.vader import SentimentIntensityAnalyzer\n",
    "     "
   ]
  },
  {
   "cell_type": "code",
   "execution_count": null,
   "metadata": {},
   "outputs": [],
   "source": []
  }
 ],
 "metadata": {
  "kernelspec": {
   "display_name": "virtualenvNaraSpeak",
   "language": "python",
   "name": "python3"
  },
  "language_info": {
   "name": "python",
   "version": "3.10.11"
  }
 },
 "nbformat": 4,
 "nbformat_minor": 2
}

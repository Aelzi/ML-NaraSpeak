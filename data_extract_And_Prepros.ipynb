{
 "cells": [
  {
   "cell_type": "markdown",
   "metadata": {},
   "source": [
    "# Ekstrak & Pre-proc Dataset "
   ]
  },
  {
   "cell_type": "code",
   "execution_count": 1,
   "metadata": {},
   "outputs": [],
   "source": [
    "\n",
    "import warnings\n",
    "warnings.filterwarnings(\"ignore\")\n",
    "import pandas as pd\n",
    "import re\n",
    "from tqdm.auto import tqdm\n",
    "tqdm.pandas()\n",
    "     "
   ]
  },
  {
   "cell_type": "code",
   "execution_count": 2,
   "metadata": {},
   "outputs": [],
   "source": [
    "df = pd.read_csv(r\"D:\\TEL-U\\BANGKIT!\\NARASPEAK\\DATASET\\C4_200M.tsv-00000-of-00010\", delimiter='\\t', nrows=100000)\n",
    "df.columns = [\"Incorrect\", \"Correct\"]"
   ]
  },
  {
   "cell_type": "code",
   "execution_count": 3,
   "metadata": {},
   "outputs": [
    {
     "data": {
      "text/html": [
       "<div>\n",
       "<style scoped>\n",
       "    .dataframe tbody tr th:only-of-type {\n",
       "        vertical-align: middle;\n",
       "    }\n",
       "\n",
       "    .dataframe tbody tr th {\n",
       "        vertical-align: top;\n",
       "    }\n",
       "\n",
       "    .dataframe thead th {\n",
       "        text-align: right;\n",
       "    }\n",
       "</style>\n",
       "<table border=\"1\" class=\"dataframe\">\n",
       "  <thead>\n",
       "    <tr style=\"text-align: right;\">\n",
       "      <th></th>\n",
       "      <th>Incorrect</th>\n",
       "      <th>Correct</th>\n",
       "    </tr>\n",
       "  </thead>\n",
       "  <tbody>\n",
       "    <tr>\n",
       "      <th>0</th>\n",
       "      <td>The effect of widespread dud targets two face ...</td>\n",
       "      <td>1. The effect of \"widespread dud\" targets two ...</td>\n",
       "    </tr>\n",
       "    <tr>\n",
       "      <th>1</th>\n",
       "      <td>tax on sales of stores for non residents are s...</td>\n",
       "      <td>Capital Gains tax on the sale of properties fo...</td>\n",
       "    </tr>\n",
       "    <tr>\n",
       "      <th>2</th>\n",
       "      <td>Much many brands and sellers still in the market.</td>\n",
       "      <td>Many brands and sellers still in the market.</td>\n",
       "    </tr>\n",
       "    <tr>\n",
       "      <th>3</th>\n",
       "      <td>this is is the latest Maintenance release of S...</td>\n",
       "      <td>This is is the latest maintenance release of S...</td>\n",
       "    </tr>\n",
       "    <tr>\n",
       "      <th>4</th>\n",
       "      <td>Fairy Or Not, I'm the Godmother: no just look,...</td>\n",
       "      <td>Fairy Or Not, I'm the Godmother: Not just a lo...</td>\n",
       "    </tr>\n",
       "    <tr>\n",
       "      <th>...</th>\n",
       "      <td>...</td>\n",
       "      <td>...</td>\n",
       "    </tr>\n",
       "    <tr>\n",
       "      <th>99995</th>\n",
       "      <td>The Toy’s slump seems to coincide with the dis...</td>\n",
       "      <td>The Toy’s slump seems to coincide with the dis...</td>\n",
       "    </tr>\n",
       "    <tr>\n",
       "      <th>99996</th>\n",
       "      <td>It took me 4 hours to find this stupid failure.</td>\n",
       "      <td>It took me 4 hours to find this stupid problem.</td>\n",
       "    </tr>\n",
       "    <tr>\n",
       "      <th>99997</th>\n",
       "      <td>Made of high tech thermoplastic rubber, TPR (D...</td>\n",
       "      <td>Made of high-tech thermoplastic rubber, TPR (D...</td>\n",
       "    </tr>\n",
       "    <tr>\n",
       "      <th>99998</th>\n",
       "      <td>According to a study written by the Annie E. C...</td>\n",
       "      <td>According to a study by the Annie E. Casey, Fo...</td>\n",
       "    </tr>\n",
       "    <tr>\n",
       "      <th>99999</th>\n",
       "      <td>A delicious baked cheesecake recipe of Sarah H...</td>\n",
       "      <td>A delicious baked cheesecake recipe from Sarah...</td>\n",
       "    </tr>\n",
       "  </tbody>\n",
       "</table>\n",
       "<p>100000 rows × 2 columns</p>\n",
       "</div>"
      ],
      "text/plain": [
       "                                               Incorrect  \\\n",
       "0      The effect of widespread dud targets two face ...   \n",
       "1      tax on sales of stores for non residents are s...   \n",
       "2      Much many brands and sellers still in the market.   \n",
       "3      this is is the latest Maintenance release of S...   \n",
       "4      Fairy Or Not, I'm the Godmother: no just look,...   \n",
       "...                                                  ...   \n",
       "99995  The Toy’s slump seems to coincide with the dis...   \n",
       "99996    It took me 4 hours to find this stupid failure.   \n",
       "99997  Made of high tech thermoplastic rubber, TPR (D...   \n",
       "99998  According to a study written by the Annie E. C...   \n",
       "99999  A delicious baked cheesecake recipe of Sarah H...   \n",
       "\n",
       "                                                 Correct  \n",
       "0      1. The effect of \"widespread dud\" targets two ...  \n",
       "1      Capital Gains tax on the sale of properties fo...  \n",
       "2           Many brands and sellers still in the market.  \n",
       "3      This is is the latest maintenance release of S...  \n",
       "4      Fairy Or Not, I'm the Godmother: Not just a lo...  \n",
       "...                                                  ...  \n",
       "99995  The Toy’s slump seems to coincide with the dis...  \n",
       "99996    It took me 4 hours to find this stupid problem.  \n",
       "99997  Made of high-tech thermoplastic rubber, TPR (D...  \n",
       "99998  According to a study by the Annie E. Casey, Fo...  \n",
       "99999  A delicious baked cheesecake recipe from Sarah...  \n",
       "\n",
       "[100000 rows x 2 columns]"
      ]
     },
     "execution_count": 3,
     "metadata": {},
     "output_type": "execute_result"
    }
   ],
   "source": [
    "df"
   ]
  },
  {
   "cell_type": "code",
   "execution_count": 4,
   "metadata": {},
   "outputs": [],
   "source": [
    "# Adding length features\n",
    "\n",
    "\n",
    "df['correct_char_count'] = df['Correct'].astype('str').apply(lambda x:len(x))\n",
    "df['incorrect_char_count'] = df['Incorrect'].astype('str').apply(lambda x:len(x))\n",
    "\n",
    "df['correct_word_count'] = df['Correct'].astype('str').apply(lambda x:len(x.split()))\n",
    "df['incorrect_word_count'] = df['Incorrect'].astype('str').apply(lambda x:len(x.split()))"
   ]
  },
  {
   "cell_type": "code",
   "execution_count": 5,
   "metadata": {},
   "outputs": [
    {
     "data": {
      "text/html": [
       "<div>\n",
       "<style scoped>\n",
       "    .dataframe tbody tr th:only-of-type {\n",
       "        vertical-align: middle;\n",
       "    }\n",
       "\n",
       "    .dataframe tbody tr th {\n",
       "        vertical-align: top;\n",
       "    }\n",
       "\n",
       "    .dataframe thead th {\n",
       "        text-align: right;\n",
       "    }\n",
       "</style>\n",
       "<table border=\"1\" class=\"dataframe\">\n",
       "  <thead>\n",
       "    <tr style=\"text-align: right;\">\n",
       "      <th></th>\n",
       "      <th>Incorrect</th>\n",
       "      <th>Correct</th>\n",
       "      <th>correct_char_count</th>\n",
       "      <th>incorrect_char_count</th>\n",
       "      <th>correct_word_count</th>\n",
       "      <th>incorrect_word_count</th>\n",
       "    </tr>\n",
       "  </thead>\n",
       "  <tbody>\n",
       "    <tr>\n",
       "      <th>0</th>\n",
       "      <td>The effect of widespread dud targets two face ...</td>\n",
       "      <td>1. The effect of \"widespread dud\" targets two ...</td>\n",
       "      <td>92</td>\n",
       "      <td>87</td>\n",
       "      <td>16</td>\n",
       "      <td>15</td>\n",
       "    </tr>\n",
       "    <tr>\n",
       "      <th>1</th>\n",
       "      <td>tax on sales of stores for non residents are s...</td>\n",
       "      <td>Capital Gains tax on the sale of properties fo...</td>\n",
       "      <td>355</td>\n",
       "      <td>334</td>\n",
       "      <td>63</td>\n",
       "      <td>59</td>\n",
       "    </tr>\n",
       "    <tr>\n",
       "      <th>2</th>\n",
       "      <td>Much many brands and sellers still in the market.</td>\n",
       "      <td>Many brands and sellers still in the market.</td>\n",
       "      <td>44</td>\n",
       "      <td>49</td>\n",
       "      <td>8</td>\n",
       "      <td>9</td>\n",
       "    </tr>\n",
       "    <tr>\n",
       "      <th>3</th>\n",
       "      <td>this is is the latest Maintenance release of S...</td>\n",
       "      <td>This is is the latest maintenance release of S...</td>\n",
       "      <td>55</td>\n",
       "      <td>54</td>\n",
       "      <td>10</td>\n",
       "      <td>10</td>\n",
       "    </tr>\n",
       "    <tr>\n",
       "      <th>4</th>\n",
       "      <td>Fairy Or Not, I'm the Godmother: no just look,...</td>\n",
       "      <td>Fairy Or Not, I'm the Godmother: Not just a lo...</td>\n",
       "      <td>100</td>\n",
       "      <td>94</td>\n",
       "      <td>20</td>\n",
       "      <td>18</td>\n",
       "    </tr>\n",
       "  </tbody>\n",
       "</table>\n",
       "</div>"
      ],
      "text/plain": [
       "                                           Incorrect  \\\n",
       "0  The effect of widespread dud targets two face ...   \n",
       "1  tax on sales of stores for non residents are s...   \n",
       "2  Much many brands and sellers still in the market.   \n",
       "3  this is is the latest Maintenance release of S...   \n",
       "4  Fairy Or Not, I'm the Godmother: no just look,...   \n",
       "\n",
       "                                             Correct  correct_char_count  \\\n",
       "0  1. The effect of \"widespread dud\" targets two ...                  92   \n",
       "1  Capital Gains tax on the sale of properties fo...                 355   \n",
       "2       Many brands and sellers still in the market.                  44   \n",
       "3  This is is the latest maintenance release of S...                  55   \n",
       "4  Fairy Or Not, I'm the Godmother: Not just a lo...                 100   \n",
       "\n",
       "   incorrect_char_count  correct_word_count  incorrect_word_count  \n",
       "0                    87                  16                    15  \n",
       "1                   334                  63                    59  \n",
       "2                    49                   8                     9  \n",
       "3                    54                  10                    10  \n",
       "4                    94                  20                    18  "
      ]
     },
     "execution_count": 5,
     "metadata": {},
     "output_type": "execute_result"
    }
   ],
   "source": [
    "df.head(5)"
   ]
  },
  {
   "cell_type": "markdown",
   "metadata": {},
   "source": [
    "# Preprocessing\n",
    "Removing Missing/NA"
   ]
  },
  {
   "cell_type": "code",
   "execution_count": 6,
   "metadata": {},
   "outputs": [
    {
     "data": {
      "text/html": [
       "<div>\n",
       "<style scoped>\n",
       "    .dataframe tbody tr th:only-of-type {\n",
       "        vertical-align: middle;\n",
       "    }\n",
       "\n",
       "    .dataframe tbody tr th {\n",
       "        vertical-align: top;\n",
       "    }\n",
       "\n",
       "    .dataframe thead th {\n",
       "        text-align: right;\n",
       "    }\n",
       "</style>\n",
       "<table border=\"1\" class=\"dataframe\">\n",
       "  <thead>\n",
       "    <tr style=\"text-align: right;\">\n",
       "      <th></th>\n",
       "      <th>missing_count</th>\n",
       "    </tr>\n",
       "  </thead>\n",
       "  <tbody>\n",
       "    <tr>\n",
       "      <th>Incorrect</th>\n",
       "      <td>0</td>\n",
       "    </tr>\n",
       "    <tr>\n",
       "      <th>Correct</th>\n",
       "      <td>0</td>\n",
       "    </tr>\n",
       "    <tr>\n",
       "      <th>correct_char_count</th>\n",
       "      <td>0</td>\n",
       "    </tr>\n",
       "    <tr>\n",
       "      <th>incorrect_char_count</th>\n",
       "      <td>0</td>\n",
       "    </tr>\n",
       "    <tr>\n",
       "      <th>correct_word_count</th>\n",
       "      <td>0</td>\n",
       "    </tr>\n",
       "    <tr>\n",
       "      <th>incorrect_word_count</th>\n",
       "      <td>0</td>\n",
       "    </tr>\n",
       "  </tbody>\n",
       "</table>\n",
       "</div>"
      ],
      "text/plain": [
       "                      missing_count\n",
       "Incorrect                         0\n",
       "Correct                           0\n",
       "correct_char_count                0\n",
       "incorrect_char_count              0\n",
       "correct_word_count                0\n",
       "incorrect_word_count              0"
      ]
     },
     "execution_count": 6,
     "metadata": {},
     "output_type": "execute_result"
    }
   ],
   "source": [
    "\n",
    "pd.DataFrame(df.isna().sum(),columns=['missing_count'])"
   ]
  },
  {
   "cell_type": "code",
   "execution_count": 7,
   "metadata": {},
   "outputs": [
    {
     "data": {
      "text/html": [
       "<div>\n",
       "<style scoped>\n",
       "    .dataframe tbody tr th:only-of-type {\n",
       "        vertical-align: middle;\n",
       "    }\n",
       "\n",
       "    .dataframe tbody tr th {\n",
       "        vertical-align: top;\n",
       "    }\n",
       "\n",
       "    .dataframe thead th {\n",
       "        text-align: right;\n",
       "    }\n",
       "</style>\n",
       "<table border=\"1\" class=\"dataframe\">\n",
       "  <thead>\n",
       "    <tr style=\"text-align: right;\">\n",
       "      <th></th>\n",
       "      <th>Incorrect</th>\n",
       "      <th>Correct</th>\n",
       "      <th>correct_char_count</th>\n",
       "      <th>incorrect_char_count</th>\n",
       "      <th>correct_word_count</th>\n",
       "      <th>incorrect_word_count</th>\n",
       "    </tr>\n",
       "  </thead>\n",
       "  <tbody>\n",
       "  </tbody>\n",
       "</table>\n",
       "</div>"
      ],
      "text/plain": [
       "Empty DataFrame\n",
       "Columns: [Incorrect, Correct, correct_char_count, incorrect_char_count, correct_word_count, incorrect_word_count]\n",
       "Index: []"
      ]
     },
     "execution_count": 7,
     "metadata": {},
     "output_type": "execute_result"
    }
   ],
   "source": [
    "\n",
    "df[df.isna().any(axis=1)]"
   ]
  },
  {
   "cell_type": "code",
   "execution_count": 8,
   "metadata": {},
   "outputs": [],
   "source": [
    "\n",
    "df = df.dropna().reset_index(drop=True)"
   ]
  },
  {
   "cell_type": "code",
   "execution_count": 9,
   "metadata": {},
   "outputs": [
    {
     "data": {
      "text/plain": [
       "(100000, 6)"
      ]
     },
     "execution_count": 9,
     "metadata": {},
     "output_type": "execute_result"
    }
   ],
   "source": [
    "\n",
    "df.shape"
   ]
  },
  {
   "cell_type": "markdown",
   "metadata": {},
   "source": [
    "Keep unique sentence pairs"
   ]
  },
  {
   "cell_type": "code",
   "execution_count": 10,
   "metadata": {},
   "outputs": [
    {
     "name": "stdout",
     "output_type": "stream",
     "text": [
      "total number of duplicate pairs: 590\n"
     ]
    }
   ],
   "source": [
    "print(f\"total number of duplicate pairs: {len(df[df['Correct']==df['Incorrect']])}\")"
   ]
  },
  {
   "cell_type": "code",
   "execution_count": 11,
   "metadata": {},
   "outputs": [
    {
     "data": {
      "text/html": [
       "<div>\n",
       "<style scoped>\n",
       "    .dataframe tbody tr th:only-of-type {\n",
       "        vertical-align: middle;\n",
       "    }\n",
       "\n",
       "    .dataframe tbody tr th {\n",
       "        vertical-align: top;\n",
       "    }\n",
       "\n",
       "    .dataframe thead th {\n",
       "        text-align: right;\n",
       "    }\n",
       "</style>\n",
       "<table border=\"1\" class=\"dataframe\">\n",
       "  <thead>\n",
       "    <tr style=\"text-align: right;\">\n",
       "      <th></th>\n",
       "      <th>Incorrect</th>\n",
       "      <th>Correct</th>\n",
       "      <th>correct_char_count</th>\n",
       "      <th>incorrect_char_count</th>\n",
       "      <th>correct_word_count</th>\n",
       "      <th>incorrect_word_count</th>\n",
       "    </tr>\n",
       "  </thead>\n",
       "  <tbody>\n",
       "    <tr>\n",
       "      <th>8905</th>\n",
       "      <td>When is Chronic Ink Tattoo Vancouver Opening?</td>\n",
       "      <td>When is Chronic Ink Tattoo Vancouver Opening?</td>\n",
       "      <td>45</td>\n",
       "      <td>45</td>\n",
       "      <td>7</td>\n",
       "      <td>7</td>\n",
       "    </tr>\n",
       "    <tr>\n",
       "      <th>84608</th>\n",
       "      <td>Generating reports for traffic analysis.</td>\n",
       "      <td>Generating reports for traffic analysis.</td>\n",
       "      <td>40</td>\n",
       "      <td>40</td>\n",
       "      <td>5</td>\n",
       "      <td>5</td>\n",
       "    </tr>\n",
       "    <tr>\n",
       "      <th>28665</th>\n",
       "      <td>3. What is one of Tamars jobs?</td>\n",
       "      <td>3. What is one of Tamars jobs?</td>\n",
       "      <td>30</td>\n",
       "      <td>30</td>\n",
       "      <td>7</td>\n",
       "      <td>7</td>\n",
       "    </tr>\n",
       "    <tr>\n",
       "      <th>54106</th>\n",
       "      <td>Free telephone consultation - please call 0772...</td>\n",
       "      <td>Free telephone consultation - please call 0772...</td>\n",
       "      <td>55</td>\n",
       "      <td>55</td>\n",
       "      <td>8</td>\n",
       "      <td>8</td>\n",
       "    </tr>\n",
       "    <tr>\n",
       "      <th>91105</th>\n",
       "      <td>Throne of Bhaal novelization, Minsc?</td>\n",
       "      <td>Throne of Bhaal novelization, Minsc?</td>\n",
       "      <td>36</td>\n",
       "      <td>36</td>\n",
       "      <td>5</td>\n",
       "      <td>5</td>\n",
       "    </tr>\n",
       "  </tbody>\n",
       "</table>\n",
       "</div>"
      ],
      "text/plain": [
       "                                               Incorrect  \\\n",
       "8905       When is Chronic Ink Tattoo Vancouver Opening?   \n",
       "84608           Generating reports for traffic analysis.   \n",
       "28665                     3. What is one of Tamars jobs?   \n",
       "54106  Free telephone consultation - please call 0772...   \n",
       "91105               Throne of Bhaal novelization, Minsc?   \n",
       "\n",
       "                                                 Correct  correct_char_count  \\\n",
       "8905       When is Chronic Ink Tattoo Vancouver Opening?                  45   \n",
       "84608           Generating reports for traffic analysis.                  40   \n",
       "28665                     3. What is one of Tamars jobs?                  30   \n",
       "54106  Free telephone consultation - please call 0772...                  55   \n",
       "91105               Throne of Bhaal novelization, Minsc?                  36   \n",
       "\n",
       "       incorrect_char_count  correct_word_count  incorrect_word_count  \n",
       "8905                     45                   7                     7  \n",
       "84608                    40                   5                     5  \n",
       "28665                    30                   7                     7  \n",
       "54106                    55                   8                     8  \n",
       "91105                    36                   5                     5  "
      ]
     },
     "execution_count": 11,
     "metadata": {},
     "output_type": "execute_result"
    }
   ],
   "source": [
    "\n",
    "df[df['Correct']==df['Incorrect']].sample(5)"
   ]
  },
  {
   "cell_type": "code",
   "execution_count": 12,
   "metadata": {},
   "outputs": [],
   "source": [
    "df = df[df['Correct']!=df['Incorrect']]"
   ]
  },
  {
   "cell_type": "code",
   "execution_count": 13,
   "metadata": {},
   "outputs": [
    {
     "data": {
      "text/plain": [
       "(99410, 6)"
      ]
     },
     "execution_count": 13,
     "metadata": {},
     "output_type": "execute_result"
    }
   ],
   "source": [
    "df.shape"
   ]
  },
  {
   "cell_type": "code",
   "execution_count": 14,
   "metadata": {},
   "outputs": [
    {
     "data": {
      "text/html": [
       "<div>\n",
       "<style scoped>\n",
       "    .dataframe tbody tr th:only-of-type {\n",
       "        vertical-align: middle;\n",
       "    }\n",
       "\n",
       "    .dataframe tbody tr th {\n",
       "        vertical-align: top;\n",
       "    }\n",
       "\n",
       "    .dataframe thead th {\n",
       "        text-align: right;\n",
       "    }\n",
       "</style>\n",
       "<table border=\"1\" class=\"dataframe\">\n",
       "  <thead>\n",
       "    <tr style=\"text-align: right;\">\n",
       "      <th></th>\n",
       "      <th>Incorrect</th>\n",
       "      <th>Correct</th>\n",
       "      <th>correct_char_count</th>\n",
       "      <th>incorrect_char_count</th>\n",
       "      <th>correct_word_count</th>\n",
       "      <th>incorrect_word_count</th>\n",
       "    </tr>\n",
       "  </thead>\n",
       "  <tbody>\n",
       "    <tr>\n",
       "      <th>90811</th>\n",
       "      <td>I have a very simple text sketch in Which I'm ...</td>\n",
       "      <td>I have a very simple test sketch in which I'm ...</td>\n",
       "      <td>134</td>\n",
       "      <td>135</td>\n",
       "      <td>28</td>\n",
       "      <td>28</td>\n",
       "    </tr>\n",
       "    <tr>\n",
       "      <th>41022</th>\n",
       "      <td>I'm happy that I played the game thanks for SI...</td>\n",
       "      <td>I'm happy that I played the game, thanks to SI...</td>\n",
       "      <td>141</td>\n",
       "      <td>140</td>\n",
       "      <td>29</td>\n",
       "      <td>29</td>\n",
       "    </tr>\n",
       "    <tr>\n",
       "      <th>87784</th>\n",
       "      <td>Oil prices were also supported by OPEC's decis...</td>\n",
       "      <td>Oil prices were also supported by OPEC's decis...</td>\n",
       "      <td>142</td>\n",
       "      <td>134</td>\n",
       "      <td>23</td>\n",
       "      <td>22</td>\n",
       "    </tr>\n",
       "    <tr>\n",
       "      <th>93313</th>\n",
       "      <td>Are you want to save €17.15 per year?</td>\n",
       "      <td>Do you want to save €17.15 per year?</td>\n",
       "      <td>36</td>\n",
       "      <td>37</td>\n",
       "      <td>8</td>\n",
       "      <td>8</td>\n",
       "    </tr>\n",
       "    <tr>\n",
       "      <th>22091</th>\n",
       "      <td>4 Latins and No Latins express yes to them!</td>\n",
       "      <td>4. No means yes to them!</td>\n",
       "      <td>24</td>\n",
       "      <td>43</td>\n",
       "      <td>6</td>\n",
       "      <td>9</td>\n",
       "    </tr>\n",
       "  </tbody>\n",
       "</table>\n",
       "</div>"
      ],
      "text/plain": [
       "                                               Incorrect  \\\n",
       "90811  I have a very simple text sketch in Which I'm ...   \n",
       "41022  I'm happy that I played the game thanks for SI...   \n",
       "87784  Oil prices were also supported by OPEC's decis...   \n",
       "93313              Are you want to save €17.15 per year?   \n",
       "22091        4 Latins and No Latins express yes to them!   \n",
       "\n",
       "                                                 Correct  correct_char_count  \\\n",
       "90811  I have a very simple test sketch in which I'm ...                 134   \n",
       "41022  I'm happy that I played the game, thanks to SI...                 141   \n",
       "87784  Oil prices were also supported by OPEC's decis...                 142   \n",
       "93313               Do you want to save €17.15 per year?                  36   \n",
       "22091                           4. No means yes to them!                  24   \n",
       "\n",
       "       incorrect_char_count  correct_word_count  incorrect_word_count  \n",
       "90811                   135                  28                    28  \n",
       "41022                   140                  29                    29  \n",
       "87784                   134                  23                    22  \n",
       "93313                    37                   8                     8  \n",
       "22091                    43                   6                     9  "
      ]
     },
     "execution_count": 14,
     "metadata": {},
     "output_type": "execute_result"
    }
   ],
   "source": [
    "df.sample(5)"
   ]
  },
  {
   "cell_type": "markdown",
   "metadata": {},
   "source": [
    "Remove Duplicates"
   ]
  },
  {
   "cell_type": "code",
   "execution_count": 15,
   "metadata": {},
   "outputs": [
    {
     "name": "stdout",
     "output_type": "stream",
     "text": [
      "total number of duplicates: 0\n"
     ]
    }
   ],
   "source": [
    "\n",
    "print(f'total number of duplicates: {df.duplicated().sum()}')"
   ]
  },
  {
   "cell_type": "code",
   "execution_count": 16,
   "metadata": {},
   "outputs": [
    {
     "data": {
      "text/html": [
       "<div>\n",
       "<style scoped>\n",
       "    .dataframe tbody tr th:only-of-type {\n",
       "        vertical-align: middle;\n",
       "    }\n",
       "\n",
       "    .dataframe tbody tr th {\n",
       "        vertical-align: top;\n",
       "    }\n",
       "\n",
       "    .dataframe thead th {\n",
       "        text-align: right;\n",
       "    }\n",
       "</style>\n",
       "<table border=\"1\" class=\"dataframe\">\n",
       "  <thead>\n",
       "    <tr style=\"text-align: right;\">\n",
       "      <th></th>\n",
       "      <th>Incorrect</th>\n",
       "      <th>Correct</th>\n",
       "      <th>correct_char_count</th>\n",
       "      <th>incorrect_char_count</th>\n",
       "      <th>correct_word_count</th>\n",
       "      <th>incorrect_word_count</th>\n",
       "    </tr>\n",
       "  </thead>\n",
       "  <tbody>\n",
       "  </tbody>\n",
       "</table>\n",
       "</div>"
      ],
      "text/plain": [
       "Empty DataFrame\n",
       "Columns: [Incorrect, Correct, correct_char_count, incorrect_char_count, correct_word_count, incorrect_word_count]\n",
       "Index: []"
      ]
     },
     "execution_count": 16,
     "metadata": {},
     "output_type": "execute_result"
    }
   ],
   "source": [
    "\n",
    "df[df.duplicated(keep=False)].sort_values('Correct')"
   ]
  },
  {
   "cell_type": "code",
   "execution_count": 17,
   "metadata": {},
   "outputs": [],
   "source": [
    "\n",
    "df = df.drop_duplicates().reset_index(drop=True)"
   ]
  },
  {
   "cell_type": "code",
   "execution_count": 18,
   "metadata": {},
   "outputs": [
    {
     "data": {
      "text/plain": [
       "(99410, 6)"
      ]
     },
     "execution_count": 18,
     "metadata": {},
     "output_type": "execute_result"
    }
   ],
   "source": [
    "df.shape"
   ]
  },
  {
   "cell_type": "code",
   "execution_count": 19,
   "metadata": {},
   "outputs": [
    {
     "data": {
      "text/html": [
       "<div>\n",
       "<style scoped>\n",
       "    .dataframe tbody tr th:only-of-type {\n",
       "        vertical-align: middle;\n",
       "    }\n",
       "\n",
       "    .dataframe tbody tr th {\n",
       "        vertical-align: top;\n",
       "    }\n",
       "\n",
       "    .dataframe thead th {\n",
       "        text-align: right;\n",
       "    }\n",
       "</style>\n",
       "<table border=\"1\" class=\"dataframe\">\n",
       "  <thead>\n",
       "    <tr style=\"text-align: right;\">\n",
       "      <th></th>\n",
       "      <th>Incorrect</th>\n",
       "      <th>Correct</th>\n",
       "      <th>correct_char_count</th>\n",
       "      <th>incorrect_char_count</th>\n",
       "      <th>correct_word_count</th>\n",
       "      <th>incorrect_word_count</th>\n",
       "    </tr>\n",
       "  </thead>\n",
       "  <tbody>\n",
       "    <tr>\n",
       "      <th>94552</th>\n",
       "      <td>The first question many new comers ask is... w...</td>\n",
       "      <td>The first question many new comers ask is, wha...</td>\n",
       "      <td>183</td>\n",
       "      <td>154</td>\n",
       "      <td>30</td>\n",
       "      <td>26</td>\n",
       "    </tr>\n",
       "    <tr>\n",
       "      <th>90835</th>\n",
       "      <td>Mar5: 26 5:40 PM PT6:40 PM MT7:40 PM Yukat CT8...</td>\n",
       "      <td>Mar. 26 5:40 PM PT6:40 PM MT7:40 PM CT8:40 PM ...</td>\n",
       "      <td>284</td>\n",
       "      <td>265</td>\n",
       "      <td>56</td>\n",
       "      <td>51</td>\n",
       "    </tr>\n",
       "    <tr>\n",
       "      <th>54761</th>\n",
       "      <td>We love to take custom orders, If you have any...</td>\n",
       "      <td>We love to take custom orders, if you have any...</td>\n",
       "      <td>191</td>\n",
       "      <td>204</td>\n",
       "      <td>42</td>\n",
       "      <td>42</td>\n",
       "    </tr>\n",
       "    <tr>\n",
       "      <th>87095</th>\n",
       "      <td>The home must be on minimum one acre land that...</td>\n",
       "      <td>The home must be on at minimum one acre land t...</td>\n",
       "      <td>174</td>\n",
       "      <td>196</td>\n",
       "      <td>32</td>\n",
       "      <td>34</td>\n",
       "    </tr>\n",
       "    <tr>\n",
       "      <th>57785</th>\n",
       "      <td>And don't expect Deron Williams do much better...</td>\n",
       "      <td>And don't expect Deron Williams to do much bet...</td>\n",
       "      <td>173</td>\n",
       "      <td>162</td>\n",
       "      <td>33</td>\n",
       "      <td>29</td>\n",
       "    </tr>\n",
       "  </tbody>\n",
       "</table>\n",
       "</div>"
      ],
      "text/plain": [
       "                                               Incorrect  \\\n",
       "94552  The first question many new comers ask is... w...   \n",
       "90835  Mar5: 26 5:40 PM PT6:40 PM MT7:40 PM Yukat CT8...   \n",
       "54761  We love to take custom orders, If you have any...   \n",
       "87095  The home must be on minimum one acre land that...   \n",
       "57785  And don't expect Deron Williams do much better...   \n",
       "\n",
       "                                                 Correct  correct_char_count  \\\n",
       "94552  The first question many new comers ask is, wha...                 183   \n",
       "90835  Mar. 26 5:40 PM PT6:40 PM MT7:40 PM CT8:40 PM ...                 284   \n",
       "54761  We love to take custom orders, if you have any...                 191   \n",
       "87095  The home must be on at minimum one acre land t...                 174   \n",
       "57785  And don't expect Deron Williams to do much bet...                 173   \n",
       "\n",
       "       incorrect_char_count  correct_word_count  incorrect_word_count  \n",
       "94552                   154                  30                    26  \n",
       "90835                   265                  56                    51  \n",
       "54761                   204                  42                    42  \n",
       "87095                   196                  32                    34  \n",
       "57785                   162                  33                    29  "
      ]
     },
     "execution_count": 19,
     "metadata": {},
     "output_type": "execute_result"
    }
   ],
   "source": [
    "df.sample(5)"
   ]
  },
  {
   "cell_type": "markdown",
   "metadata": {},
   "source": [
    "Remove Small sentences"
   ]
  },
  {
   "cell_type": "code",
   "execution_count": 20,
   "metadata": {},
   "outputs": [
    {
     "data": {
      "text/plain": [
       "(0, 6)"
      ]
     },
     "execution_count": 20,
     "metadata": {},
     "output_type": "execute_result"
    }
   ],
   "source": [
    "df[df['incorrect_char_count']<2].shape"
   ]
  },
  {
   "cell_type": "code",
   "execution_count": 21,
   "metadata": {},
   "outputs": [],
   "source": [
    "\n",
    "df = df[df['incorrect_char_count']>2].reset_index(drop=True)"
   ]
  },
  {
   "cell_type": "code",
   "execution_count": 22,
   "metadata": {},
   "outputs": [
    {
     "data": {
      "text/plain": [
       "(99409, 6)"
      ]
     },
     "execution_count": 22,
     "metadata": {},
     "output_type": "execute_result"
    }
   ],
   "source": [
    "df.shape"
   ]
  },
  {
   "cell_type": "code",
   "execution_count": 23,
   "metadata": {},
   "outputs": [
    {
     "data": {
      "text/plain": [
       "(0, 6)"
      ]
     },
     "execution_count": 23,
     "metadata": {},
     "output_type": "execute_result"
    }
   ],
   "source": [
    "df[df['correct_char_count']<2].shape"
   ]
  },
  {
   "cell_type": "code",
   "execution_count": 24,
   "metadata": {},
   "outputs": [
    {
     "data": {
      "text/plain": [
       "<bound method NDFrame.sample of Empty DataFrame\n",
       "Columns: [Incorrect, Correct, correct_char_count, incorrect_char_count, correct_word_count, incorrect_word_count]\n",
       "Index: []>"
      ]
     },
     "execution_count": 24,
     "metadata": {},
     "output_type": "execute_result"
    }
   ],
   "source": [
    "df[df['correct_char_count']<2].sample"
   ]
  },
  {
   "cell_type": "code",
   "execution_count": 25,
   "metadata": {},
   "outputs": [],
   "source": [
    "df = df[df['correct_char_count']>2].reset_index(drop=True)"
   ]
  },
  {
   "cell_type": "code",
   "execution_count": 26,
   "metadata": {},
   "outputs": [
    {
     "data": {
      "text/plain": [
       "(99409, 6)"
      ]
     },
     "execution_count": 26,
     "metadata": {},
     "output_type": "execute_result"
    }
   ],
   "source": [
    "df.shape"
   ]
  },
  {
   "cell_type": "markdown",
   "metadata": {},
   "source": [
    "Cleaning Text"
   ]
  },
  {
   "cell_type": "code",
   "execution_count": 27,
   "metadata": {},
   "outputs": [],
   "source": [
    "#https://www.analyticsvidhya.com/blog/2020/04/beginners-guide-exploratory-data-analysis-text-data/\n",
    "contractions_dict = { \"ain't\": \"are not\",\"'s\":\" is\",\"aren't\": \"are not\",\n",
    "                     \"can't\": \"cannot\",\"can't've\": \"cannot have\",\n",
    "                     \"'cause\": \"because\",\"could've\": \"could have\",\"couldn't\": \"could not\",\n",
    "                     \"couldn't've\": \"could not have\", \"didn't\": \"did not\",\"doesn't\": \"does not\",\n",
    "                     \"don't\": \"do not\",\"hadn't\": \"had not\",\"hadn't've\": \"had not have\",\n",
    "                     \"hasn't\": \"has not\",\"haven't\": \"have not\",\"he'd\": \"he would\",\n",
    "                     \"he'd've\": \"he would have\",\"he'll\": \"he will\", \"he'll've\": \"he will have\",\n",
    "                     \"how'd\": \"how did\",\"how'd'y\": \"how do you\",\"how'll\": \"how will\",\n",
    "                     \"I'd\": \"I would\", \"I'd've\": \"I would have\",\"I'll\": \"I will\",\n",
    "                     \"I'll've\": \"I will have\",\"I'm\": \"I am\",\"I've\": \"I have\", \"isn't\": \"is not\",\n",
    "                     \"it'd\": \"it would\",\"it'd've\": \"it would have\",\"it'll\": \"it will\",\n",
    "                     \"it'll've\": \"it will have\", \"let's\": \"let us\",\"ma'am\": \"madam\",\n",
    "                     \"mayn't\": \"may not\",\"might've\": \"might have\",\"mightn't\": \"might not\", \n",
    "                     \"mightn't've\": \"might not have\",\"must've\": \"must have\",\"mustn't\": \"must not\",\n",
    "                     \"mustn't've\": \"must not have\", \"needn't\": \"need not\",\n",
    "                     \"needn't've\": \"need not have\",\"o'clock\": \"of the clock\",\"oughtn't\": \"ought not\",\n",
    "                     \"oughtn't've\": \"ought not have\",\"shan't\": \"shall not\",\"sha'n't\": \"shall not\",\n",
    "                     \"shan't've\": \"shall not have\",\"she'd\": \"she would\",\"she'd've\": \"she would have\",\n",
    "                     \"she'll\": \"she will\", \"she'll've\": \"she will have\",\"should've\": \"should have\",\n",
    "                     \"shouldn't\": \"should not\", \"shouldn't've\": \"should not have\",\"so've\": \"so have\",\n",
    "                     \"that'd\": \"that would\",\"that'd've\": \"that would have\", \"there'd\": \"there would\",\n",
    "                     \"there'd've\": \"there would have\", \"they'd\": \"they would\",\n",
    "                     \"they'd've\": \"they would have\",\"they'll\": \"they will\",\n",
    "                     \"they'll've\": \"they will have\", \"they're\": \"they are\",\"they've\": \"they have\",\n",
    "                     \"to've\": \"to have\",\"wasn't\": \"was not\",\"we'd\": \"we would\",\n",
    "                     \"we'd've\": \"we would have\",\"we'll\": \"we will\",\"we'll've\": \"we will have\",\n",
    "                     \"we're\": \"we are\",\"we've\": \"we have\", \"weren't\": \"were not\",\"what'll\": \"what will\",\n",
    "                     \"what'll've\": \"what will have\",\"what're\": \"what are\", \"what've\": \"what have\",\n",
    "                     \"when've\": \"when have\",\"where'd\": \"where did\", \"where've\": \"where have\",\n",
    "                     \"who'll\": \"who will\",\"who'll've\": \"who will have\",\"who've\": \"who have\",\n",
    "                     \"why've\": \"why have\",\"will've\": \"will have\",\"won't\": \"will not\",\n",
    "                     \"won't've\": \"will not have\", \"would've\": \"would have\",\"wouldn't\": \"would not\",\n",
    "                     \"wouldn't've\": \"would not have\",\"y'all\": \"you all\", \"y'all'd\": \"you all would\",\n",
    "                     \"y'all'd've\": \"you all would have\",\"y'all're\": \"you all are\",\n",
    "                     \"y'all've\": \"you all have\", \"you'd\": \"you would\",\"you'd've\": \"you would have\",\n",
    "                     \"you'll\": \"you will\",\"you'll've\": \"you will have\", \"you're\": \"you are\",\n",
    "                     \"you've\": \"you have\",\"n\\'t\":\" not\",\"\\'re\":\" are\",\"\\'s\": \" is\",\"\\'d\":\" would\",\n",
    "                     \"\\'ll\": \" will\",\"\\'t\":\" not\",\"\\'ve\": \" have\",\"\\'m\":\" am\"}\n",
    "\n",
    "\n",
    "# Regular expression for finding contractions\n",
    "contractions_re=re.compile('(%s)' % '|'.join(contractions_dict.keys()))\n",
    "\n",
    "# Function for expanding contractions\n",
    "def expand_contractions(text,contractions_dict=contractions_dict):\n",
    "    def replace(match):\n",
    "        return contractions_dict[match.group(0)]\n",
    "    return contractions_re.sub(replace, text)"
   ]
  },
  {
   "cell_type": "code",
   "execution_count": 28,
   "metadata": {},
   "outputs": [],
   "source": [
    "def clean(text):\n",
    "    text = re.sub('\\s*\\<.*?\\>\\s', '', text)\n",
    "    text = re.sub('\\s*.*?\\s', '', text)\n",
    "    text = re.sub('\\s*.*?\\s', '', text)\n",
    "    text = re.sub('\\s*\\{.*?\\}\\s', '', text)\n",
    "    text = re.sub(\"[-+@#^/|*(){}$~<>=_%:;]\",\"\",text)\n",
    "    text = text.replace(\"\\\\\",\"\")\n",
    "    text = re.sub(\"\\[\",\"\",text)\n",
    "    text = re.sub(\"\\]\",\"\",text)\n",
    "    text = re.sub(\"\\<\",\"\",text)\n",
    "    text = re.sub(\"\\>\",\"\",text)\n",
    "    text = re.sub(\"\\(\",\"\",text)\n",
    "    text = re.sub(\"\\)\",\"\",text)\n",
    "    text = re.sub(\"[0-9]\",\"\",text)\n",
    "    text = ' '.join(text.split())\n",
    "    return text"
   ]
  },
  {
   "cell_type": "code",
   "execution_count": 29,
   "metadata": {},
   "outputs": [
    {
     "name": "stderr",
     "output_type": "stream",
     "text": [
      "100%|██████████| 99409/99409 [00:04<00:00, 22774.89it/s]\n"
     ]
    }
   ],
   "source": [
    "\n",
    "# df['Correct'] = df['Correct'].progress_apply(clean)\n",
    "df['Correct'] = df['Correct'].progress_apply(expand_contractions)"
   ]
  },
  {
   "cell_type": "code",
   "execution_count": 30,
   "metadata": {},
   "outputs": [
    {
     "name": "stderr",
     "output_type": "stream",
     "text": [
      "100%|██████████| 99409/99409 [00:04<00:00, 24750.67it/s]\n"
     ]
    }
   ],
   "source": [
    "\n",
    "# df['Incorrect'] = df['Incorrect'].progress_apply(clean)\n",
    "df['Incorrect'] = df['Incorrect'].progress_apply(expand_contractions)"
   ]
  },
  {
   "cell_type": "code",
   "execution_count": 31,
   "metadata": {},
   "outputs": [
    {
     "data": {
      "text/html": [
       "<div>\n",
       "<style scoped>\n",
       "    .dataframe tbody tr th:only-of-type {\n",
       "        vertical-align: middle;\n",
       "    }\n",
       "\n",
       "    .dataframe tbody tr th {\n",
       "        vertical-align: top;\n",
       "    }\n",
       "\n",
       "    .dataframe thead th {\n",
       "        text-align: right;\n",
       "    }\n",
       "</style>\n",
       "<table border=\"1\" class=\"dataframe\">\n",
       "  <thead>\n",
       "    <tr style=\"text-align: right;\">\n",
       "      <th></th>\n",
       "      <th>Incorrect</th>\n",
       "      <th>Correct</th>\n",
       "      <th>correct_char_count</th>\n",
       "      <th>incorrect_char_count</th>\n",
       "      <th>correct_word_count</th>\n",
       "      <th>incorrect_word_count</th>\n",
       "    </tr>\n",
       "  </thead>\n",
       "  <tbody>\n",
       "    <tr>\n",
       "      <th>46408</th>\n",
       "      <td>Erection of a detached two storey dwellnbryhou...</td>\n",
       "      <td>Erection of a detached two storey dwellinghous...</td>\n",
       "      <td>129</td>\n",
       "      <td>130</td>\n",
       "      <td>17</td>\n",
       "      <td>17</td>\n",
       "    </tr>\n",
       "    <tr>\n",
       "      <th>31916</th>\n",
       "      <td>Russia: According to SKRIN Newswire, the presi...</td>\n",
       "      <td>Russia: According to SKRIN Newswire, the presi...</td>\n",
       "      <td>179</td>\n",
       "      <td>190</td>\n",
       "      <td>25</td>\n",
       "      <td>27</td>\n",
       "    </tr>\n",
       "    <tr>\n",
       "      <th>90461</th>\n",
       "      <td>63:36 Shot by SUNY Purchase Iurillo), Anthony ...</td>\n",
       "      <td>63:36 Shot by SUNY Purchase Iurillo, Anthony, ...</td>\n",
       "      <td>73</td>\n",
       "      <td>82</td>\n",
       "      <td>12</td>\n",
       "      <td>14</td>\n",
       "    </tr>\n",
       "    <tr>\n",
       "      <th>94348</th>\n",
       "      <td>Patients need nurses more than ever in their f...</td>\n",
       "      <td>Patients need nurses more than ever in their f...</td>\n",
       "      <td>56</td>\n",
       "      <td>55</td>\n",
       "      <td>10</td>\n",
       "      <td>10</td>\n",
       "    </tr>\n",
       "    <tr>\n",
       "      <th>47522</th>\n",
       "      <td>Contact vtg to drop your comumnication infrast...</td>\n",
       "      <td>Contact VTG to drop your communication infrast...</td>\n",
       "      <td>80</td>\n",
       "      <td>80</td>\n",
       "      <td>11</td>\n",
       "      <td>11</td>\n",
       "    </tr>\n",
       "    <tr>\n",
       "      <th>89154</th>\n",
       "      <td>Click on anyone is name in the Onlin tab to ch...</td>\n",
       "      <td>Click on anyone is name in the Online tab to j...</td>\n",
       "      <td>70</td>\n",
       "      <td>80</td>\n",
       "      <td>13</td>\n",
       "      <td>15</td>\n",
       "    </tr>\n",
       "    <tr>\n",
       "      <th>59709</th>\n",
       "      <td>The hotel also serves meals with indoor restra...</td>\n",
       "      <td>The hotel also serves meals with an indoor res...</td>\n",
       "      <td>74</td>\n",
       "      <td>72</td>\n",
       "      <td>12</td>\n",
       "      <td>11</td>\n",
       "    </tr>\n",
       "    <tr>\n",
       "      <th>34159</th>\n",
       "      <td>A future or a ca,</td>\n",
       "      <td>A Future or a Funeral?</td>\n",
       "      <td>22</td>\n",
       "      <td>17</td>\n",
       "      <td>5</td>\n",
       "      <td>5</td>\n",
       "    </tr>\n",
       "    <tr>\n",
       "      <th>33094</th>\n",
       "      <td>We’ll file, shape, tidy cuticles, exfoliate an...</td>\n",
       "      <td>We’ll file, shape, tidy cuticles, exfoliate an...</td>\n",
       "      <td>109</td>\n",
       "      <td>117</td>\n",
       "      <td>18</td>\n",
       "      <td>19</td>\n",
       "    </tr>\n",
       "    <tr>\n",
       "      <th>47369</th>\n",
       "      <td>Do facial expressions can make in any measuran...</td>\n",
       "      <td>Do facial expressions differ in any measurable...</td>\n",
       "      <td>117</td>\n",
       "      <td>119</td>\n",
       "      <td>20</td>\n",
       "      <td>21</td>\n",
       "    </tr>\n",
       "  </tbody>\n",
       "</table>\n",
       "</div>"
      ],
      "text/plain": [
       "                                               Incorrect  \\\n",
       "46408  Erection of a detached two storey dwellnbryhou...   \n",
       "31916  Russia: According to SKRIN Newswire, the presi...   \n",
       "90461  63:36 Shot by SUNY Purchase Iurillo), Anthony ...   \n",
       "94348  Patients need nurses more than ever in their f...   \n",
       "47522  Contact vtg to drop your comumnication infrast...   \n",
       "89154  Click on anyone is name in the Onlin tab to ch...   \n",
       "59709  The hotel also serves meals with indoor restra...   \n",
       "34159                                  A future or a ca,   \n",
       "33094  We’ll file, shape, tidy cuticles, exfoliate an...   \n",
       "47369  Do facial expressions can make in any measuran...   \n",
       "\n",
       "                                                 Correct  correct_char_count  \\\n",
       "46408  Erection of a detached two storey dwellinghous...                 129   \n",
       "31916  Russia: According to SKRIN Newswire, the presi...                 179   \n",
       "90461  63:36 Shot by SUNY Purchase Iurillo, Anthony, ...                  73   \n",
       "94348  Patients need nurses more than ever in their f...                  56   \n",
       "47522  Contact VTG to drop your communication infrast...                  80   \n",
       "89154  Click on anyone is name in the Online tab to j...                  70   \n",
       "59709  The hotel also serves meals with an indoor res...                  74   \n",
       "34159                             A Future or a Funeral?                  22   \n",
       "33094  We’ll file, shape, tidy cuticles, exfoliate an...                 109   \n",
       "47369  Do facial expressions differ in any measurable...                 117   \n",
       "\n",
       "       incorrect_char_count  correct_word_count  incorrect_word_count  \n",
       "46408                   130                  17                    17  \n",
       "31916                   190                  25                    27  \n",
       "90461                    82                  12                    14  \n",
       "94348                    55                  10                    10  \n",
       "47522                    80                  11                    11  \n",
       "89154                    80                  13                    15  \n",
       "59709                    72                  12                    11  \n",
       "34159                    17                   5                     5  \n",
       "33094                   117                  18                    19  \n",
       "47369                   119                  20                    21  "
      ]
     },
     "execution_count": 31,
     "metadata": {},
     "output_type": "execute_result"
    }
   ],
   "source": [
    "df.sample(10)"
   ]
  },
  {
   "cell_type": "code",
   "execution_count": 32,
   "metadata": {},
   "outputs": [],
   "source": [
    "def remove_spaces(text) : \n",
    "    text = re.sub(r\" '(\\w)\",r\"'\\1\",text)\n",
    "    text = re.sub(r\" \\,\",\",\",text)\n",
    "    text = re.sub(r\" \\.+\",\".\",text)\n",
    "    text = re.sub(r\" \\!+\",\"!\",text)\n",
    "    text = re.sub(r\" \\?+\",\"?\",text)\n",
    "    text = re.sub(\" n't\",\"n't\",text)\n",
    "    text = re.sub(\"[\\(\\)\\;\\_\\^\\`\\/]\",\"\",text)\n",
    "    \n",
    "    return text\n",
    "\n",
    "\n",
    "def decontract(text) : \n",
    "    text = re.sub(r\"won\\'t\", \"will not\", text)\n",
    "    text = re.sub(r\"can\\'t\", \"can not\", text)\n",
    "    text = re.sub(r\"n\\'t\", \" not\", text)\n",
    "    text = re.sub(r\"\\'re\", \" are\", text)\n",
    "    text = re.sub(r\"\\'s\", \" is\", text)\n",
    "    text = re.sub(r\"\\'d\", \" would\", text)\n",
    "    text = re.sub(r\"\\'ll\", \" will\", text)\n",
    "    text = re.sub(r\"\\'t\", \" not\", text)\n",
    "    text = re.sub(r\"\\'ve\", \" have\", text)\n",
    "    text = re.sub(r\"\\'m\", \" am\", text)\n",
    "    \n",
    "    return text\n",
    "\n"
   ]
  },
  {
   "cell_type": "code",
   "execution_count": 33,
   "metadata": {},
   "outputs": [],
   "source": [
    "def WrongSentence_preprocessing(col) : \n",
    "    df[col] = df[col].astype(str) \n",
    "    df[col] = df[col].apply(lambda x:x.lower()) \n",
    "    df[col] = df[col].apply(lambda x : re.sub(\"\\n\",\"\",x)) \n",
    "    df[col] = df[col].apply(lambda x : remove_spaces(x)) \n",
    "    df[col] = df[col].apply(lambda x : re.sub(r\"\\.+\",\".\",x)) \n",
    "    df[col] = df[col].apply(lambda x : re.sub(r\"\\!+\",\"!\",x)) \n",
    "    df[col] = df[col].apply(lambda x : decontract(x)) \n",
    "    df[col] = df[col].apply(lambda x: re.sub(\"[^A-Za-z\\s]\",\"\",x)) \n",
    "    df[col] = df[col].apply(lambda x: x.replace(\"\\s+\",\" \"))\n",
    "    df[col] = df[col].apply(lambda x: \" \".join([word for word in x.split()]))\n",
    "    return df\n",
    "\n",
    "def TrueSentence_preprocessing(col) : \n",
    "    df[col] = df[col].astype(str) \n",
    "    df[col] = df[col].apply(lambda x:x.lower()) \n",
    "    df[col] = df[col].apply(lambda x : re.sub(\"\\n\",\"\",x)) \n",
    "    df[col] = df[col].apply(lambda x : remove_spaces(x)) \n",
    "    df[col] = df[col].apply(lambda x : re.sub(r\"\\.+\",\".\",x)) \n",
    "    df[col] = df[col].apply(lambda x : re.sub(r\"\\!+\",\"!\",x)) \n",
    "    df[col] = df[col].apply(lambda x : decontract(x)) \n",
    "    df[col] = df[col].apply(lambda x: re.sub(\"[^A-Za-z\\s]\",\"\",x)) \n",
    "    df[col] = df[col].apply(lambda x: re.sub(r'\\d','',x))\n",
    "    df[col] = df[col].apply(lambda x: re.sub(r'\\s+',' ',x))\n",
    "    df[col] = df[col].apply(lambda x: re.sub(r\"[-()\\\"#/@;:<>{}`+=~|.!?,।]\", \"\", x))\n",
    "    df[col] = df[col].apply(lambda x: x.strip())\n",
    "    # df[col] = \"<sos> \" + df[col] + \" <eos>\"\n",
    "    return df"
   ]
  },
  {
   "cell_type": "code",
   "execution_count": 34,
   "metadata": {},
   "outputs": [],
   "source": [
    "df = WrongSentence_preprocessing('Incorrect') \n",
    "df = TrueSentence_preprocessing('Correct')"
   ]
  },
  {
   "cell_type": "code",
   "execution_count": 35,
   "metadata": {},
   "outputs": [
    {
     "data": {
      "text/html": [
       "<div>\n",
       "<style scoped>\n",
       "    .dataframe tbody tr th:only-of-type {\n",
       "        vertical-align: middle;\n",
       "    }\n",
       "\n",
       "    .dataframe tbody tr th {\n",
       "        vertical-align: top;\n",
       "    }\n",
       "\n",
       "    .dataframe thead th {\n",
       "        text-align: right;\n",
       "    }\n",
       "</style>\n",
       "<table border=\"1\" class=\"dataframe\">\n",
       "  <thead>\n",
       "    <tr style=\"text-align: right;\">\n",
       "      <th></th>\n",
       "      <th>Incorrect</th>\n",
       "      <th>Correct</th>\n",
       "      <th>correct_char_count</th>\n",
       "      <th>incorrect_char_count</th>\n",
       "      <th>correct_word_count</th>\n",
       "      <th>incorrect_word_count</th>\n",
       "    </tr>\n",
       "  </thead>\n",
       "  <tbody>\n",
       "    <tr>\n",
       "      <th>61568</th>\n",
       "      <td>can it be feasible need to come up with the po...</td>\n",
       "      <td>where feasible you need to have the possibilit...</td>\n",
       "      <td>156</td>\n",
       "      <td>169</td>\n",
       "      <td>26</td>\n",
       "      <td>30</td>\n",
       "    </tr>\n",
       "    <tr>\n",
       "      <th>24144</th>\n",
       "      <td>a popuraled breakfast payday in expat at chian...</td>\n",
       "      <td>a popular breakfast spot for expats in chiang mai</td>\n",
       "      <td>50</td>\n",
       "      <td>52</td>\n",
       "      <td>9</td>\n",
       "      <td>9</td>\n",
       "    </tr>\n",
       "    <tr>\n",
       "      <th>41258</th>\n",
       "      <td>d tokyo has been released</td>\n",
       "      <td>delphi tokyo has been released</td>\n",
       "      <td>36</td>\n",
       "      <td>31</td>\n",
       "      <td>6</td>\n",
       "      <td>6</td>\n",
       "    </tr>\n",
       "    <tr>\n",
       "      <th>9091</th>\n",
       "      <td>incorporate shelves etertain areas such as din...</td>\n",
       "      <td>incorporate shelves in entertainment areas suc...</td>\n",
       "      <td>150</td>\n",
       "      <td>137</td>\n",
       "      <td>22</td>\n",
       "      <td>20</td>\n",
       "    </tr>\n",
       "    <tr>\n",
       "      <th>88929</th>\n",
       "      <td>how my garden is grew</td>\n",
       "      <td>how did my garden grow</td>\n",
       "      <td>23</td>\n",
       "      <td>22</td>\n",
       "      <td>5</td>\n",
       "      <td>5</td>\n",
       "    </tr>\n",
       "    <tr>\n",
       "      <th>1700</th>\n",
       "      <td>zach plays football and wrestlers for the west...</td>\n",
       "      <td>zach plays football and wrestlers for the west...</td>\n",
       "      <td>71</td>\n",
       "      <td>72</td>\n",
       "      <td>11</td>\n",
       "      <td>11</td>\n",
       "    </tr>\n",
       "    <tr>\n",
       "      <th>18800</th>\n",
       "      <td>they are estimated that the money is breaker</td>\n",
       "      <td>they give the rider an estimated total cost</td>\n",
       "      <td>44</td>\n",
       "      <td>45</td>\n",
       "      <td>8</td>\n",
       "      <td>8</td>\n",
       "    </tr>\n",
       "    <tr>\n",
       "      <th>1304</th>\n",
       "      <td>join us in elgin cool wine country food festiv...</td>\n",
       "      <td>join us during the elgin cool wine country foo...</td>\n",
       "      <td>213</td>\n",
       "      <td>201</td>\n",
       "      <td>37</td>\n",
       "      <td>35</td>\n",
       "    </tr>\n",
       "    <tr>\n",
       "      <th>12738</th>\n",
       "      <td>omg i want big wheel that so bad i still had p...</td>\n",
       "      <td>omg i wanted a big wheel so bad i still have t...</td>\n",
       "      <td>89</td>\n",
       "      <td>93</td>\n",
       "      <td>19</td>\n",
       "      <td>19</td>\n",
       "    </tr>\n",
       "    <tr>\n",
       "      <th>12534</th>\n",
       "      <td>whne should i use it email address</td>\n",
       "      <td>when should i use a custom email address</td>\n",
       "      <td>41</td>\n",
       "      <td>36</td>\n",
       "      <td>8</td>\n",
       "      <td>7</td>\n",
       "    </tr>\n",
       "  </tbody>\n",
       "</table>\n",
       "</div>"
      ],
      "text/plain": [
       "                                               Incorrect  \\\n",
       "61568  can it be feasible need to come up with the po...   \n",
       "24144  a popuraled breakfast payday in expat at chian...   \n",
       "41258                          d tokyo has been released   \n",
       "9091   incorporate shelves etertain areas such as din...   \n",
       "88929                              how my garden is grew   \n",
       "1700   zach plays football and wrestlers for the west...   \n",
       "18800       they are estimated that the money is breaker   \n",
       "1304   join us in elgin cool wine country food festiv...   \n",
       "12738  omg i want big wheel that so bad i still had p...   \n",
       "12534                 whne should i use it email address   \n",
       "\n",
       "                                                 Correct  correct_char_count  \\\n",
       "61568  where feasible you need to have the possibilit...                 156   \n",
       "24144  a popular breakfast spot for expats in chiang mai                  50   \n",
       "41258                     delphi tokyo has been released                  36   \n",
       "9091   incorporate shelves in entertainment areas suc...                 150   \n",
       "88929                             how did my garden grow                  23   \n",
       "1700   zach plays football and wrestlers for the west...                  71   \n",
       "18800        they give the rider an estimated total cost                  44   \n",
       "1304   join us during the elgin cool wine country foo...                 213   \n",
       "12738  omg i wanted a big wheel so bad i still have t...                  89   \n",
       "12534           when should i use a custom email address                  41   \n",
       "\n",
       "       incorrect_char_count  correct_word_count  incorrect_word_count  \n",
       "61568                   169                  26                    30  \n",
       "24144                    52                   9                     9  \n",
       "41258                    31                   6                     6  \n",
       "9091                    137                  22                    20  \n",
       "88929                    22                   5                     5  \n",
       "1700                     72                  11                    11  \n",
       "18800                    45                   8                     8  \n",
       "1304                    201                  37                    35  \n",
       "12738                    93                  19                    19  \n",
       "12534                    36                   8                     7  "
      ]
     },
     "execution_count": 35,
     "metadata": {},
     "output_type": "execute_result"
    }
   ],
   "source": [
    "df.sample(10)"
   ]
  },
  {
   "cell_type": "code",
   "execution_count": 36,
   "metadata": {},
   "outputs": [],
   "source": [
    "df.to_csv('cleaned_data.csv', index=False)"
   ]
  },
  {
   "cell_type": "code",
   "execution_count": null,
   "metadata": {},
   "outputs": [],
   "source": []
  },
  {
   "cell_type": "code",
   "execution_count": null,
   "metadata": {},
   "outputs": [],
   "source": []
  }
 ],
 "metadata": {
  "kernelspec": {
   "display_name": "virtualenvNaraSpeak",
   "language": "python",
   "name": "python3"
  },
  "language_info": {
   "codemirror_mode": {
    "name": "ipython",
    "version": 3
   },
   "file_extension": ".py",
   "mimetype": "text/x-python",
   "name": "python",
   "nbconvert_exporter": "python",
   "pygments_lexer": "ipython3",
   "version": "3.10.11"
  }
 },
 "nbformat": 4,
 "nbformat_minor": 2
}

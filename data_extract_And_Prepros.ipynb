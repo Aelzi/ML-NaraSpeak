{
 "cells": [
  {
   "cell_type": "markdown",
   "metadata": {},
   "source": [
    "# Ekstrak & Pre-proc Dataset "
   ]
  },
  {
   "cell_type": "code",
   "execution_count": 255,
   "metadata": {},
   "outputs": [],
   "source": [
    "\n",
    "import warnings\n",
    "warnings.filterwarnings(\"ignore\")\n",
    "import pandas as pd\n",
    "import re\n",
    "from tqdm.auto import tqdm\n",
    "tqdm.pandas()\n",
    "     "
   ]
  },
  {
   "cell_type": "code",
   "execution_count": 256,
   "metadata": {},
   "outputs": [],
   "source": [
    "df = pd.read_csv(r\"D:\\TEL-U\\BANGKIT!\\NARASPEAK\\DATASET\\C4_200M.tsv-00000-of-00010\", delimiter='\\t', nrows=100000)\n",
    "df.columns = [\"Incorrect\", \"Correct\"]"
   ]
  },
  {
   "cell_type": "code",
   "execution_count": 257,
   "metadata": {},
   "outputs": [
    {
     "data": {
      "text/html": [
       "<div>\n",
       "<style scoped>\n",
       "    .dataframe tbody tr th:only-of-type {\n",
       "        vertical-align: middle;\n",
       "    }\n",
       "\n",
       "    .dataframe tbody tr th {\n",
       "        vertical-align: top;\n",
       "    }\n",
       "\n",
       "    .dataframe thead th {\n",
       "        text-align: right;\n",
       "    }\n",
       "</style>\n",
       "<table border=\"1\" class=\"dataframe\">\n",
       "  <thead>\n",
       "    <tr style=\"text-align: right;\">\n",
       "      <th></th>\n",
       "      <th>Incorrect</th>\n",
       "      <th>Correct</th>\n",
       "    </tr>\n",
       "  </thead>\n",
       "  <tbody>\n",
       "    <tr>\n",
       "      <th>0</th>\n",
       "      <td>The effect of widespread dud targets two face ...</td>\n",
       "      <td>1. The effect of \"widespread dud\" targets two ...</td>\n",
       "    </tr>\n",
       "    <tr>\n",
       "      <th>1</th>\n",
       "      <td>tax on sales of stores for non residents are s...</td>\n",
       "      <td>Capital Gains tax on the sale of properties fo...</td>\n",
       "    </tr>\n",
       "    <tr>\n",
       "      <th>2</th>\n",
       "      <td>Much many brands and sellers still in the market.</td>\n",
       "      <td>Many brands and sellers still in the market.</td>\n",
       "    </tr>\n",
       "    <tr>\n",
       "      <th>3</th>\n",
       "      <td>this is is the latest Maintenance release of S...</td>\n",
       "      <td>This is is the latest maintenance release of S...</td>\n",
       "    </tr>\n",
       "    <tr>\n",
       "      <th>4</th>\n",
       "      <td>Fairy Or Not, I'm the Godmother: no just look,...</td>\n",
       "      <td>Fairy Or Not, I'm the Godmother: Not just a lo...</td>\n",
       "    </tr>\n",
       "    <tr>\n",
       "      <th>...</th>\n",
       "      <td>...</td>\n",
       "      <td>...</td>\n",
       "    </tr>\n",
       "    <tr>\n",
       "      <th>99995</th>\n",
       "      <td>The Toy’s slump seems to coincide with the dis...</td>\n",
       "      <td>The Toy’s slump seems to coincide with the dis...</td>\n",
       "    </tr>\n",
       "    <tr>\n",
       "      <th>99996</th>\n",
       "      <td>It took me 4 hours to find this stupid failure.</td>\n",
       "      <td>It took me 4 hours to find this stupid problem.</td>\n",
       "    </tr>\n",
       "    <tr>\n",
       "      <th>99997</th>\n",
       "      <td>Made of high tech thermoplastic rubber, TPR (D...</td>\n",
       "      <td>Made of high-tech thermoplastic rubber, TPR (D...</td>\n",
       "    </tr>\n",
       "    <tr>\n",
       "      <th>99998</th>\n",
       "      <td>According to a study written by the Annie E. C...</td>\n",
       "      <td>According to a study by the Annie E. Casey, Fo...</td>\n",
       "    </tr>\n",
       "    <tr>\n",
       "      <th>99999</th>\n",
       "      <td>A delicious baked cheesecake recipe of Sarah H...</td>\n",
       "      <td>A delicious baked cheesecake recipe from Sarah...</td>\n",
       "    </tr>\n",
       "  </tbody>\n",
       "</table>\n",
       "<p>100000 rows × 2 columns</p>\n",
       "</div>"
      ],
      "text/plain": [
       "                                               Incorrect  \\\n",
       "0      The effect of widespread dud targets two face ...   \n",
       "1      tax on sales of stores for non residents are s...   \n",
       "2      Much many brands and sellers still in the market.   \n",
       "3      this is is the latest Maintenance release of S...   \n",
       "4      Fairy Or Not, I'm the Godmother: no just look,...   \n",
       "...                                                  ...   \n",
       "99995  The Toy’s slump seems to coincide with the dis...   \n",
       "99996    It took me 4 hours to find this stupid failure.   \n",
       "99997  Made of high tech thermoplastic rubber, TPR (D...   \n",
       "99998  According to a study written by the Annie E. C...   \n",
       "99999  A delicious baked cheesecake recipe of Sarah H...   \n",
       "\n",
       "                                                 Correct  \n",
       "0      1. The effect of \"widespread dud\" targets two ...  \n",
       "1      Capital Gains tax on the sale of properties fo...  \n",
       "2           Many brands and sellers still in the market.  \n",
       "3      This is is the latest maintenance release of S...  \n",
       "4      Fairy Or Not, I'm the Godmother: Not just a lo...  \n",
       "...                                                  ...  \n",
       "99995  The Toy’s slump seems to coincide with the dis...  \n",
       "99996    It took me 4 hours to find this stupid problem.  \n",
       "99997  Made of high-tech thermoplastic rubber, TPR (D...  \n",
       "99998  According to a study by the Annie E. Casey, Fo...  \n",
       "99999  A delicious baked cheesecake recipe from Sarah...  \n",
       "\n",
       "[100000 rows x 2 columns]"
      ]
     },
     "execution_count": 257,
     "metadata": {},
     "output_type": "execute_result"
    }
   ],
   "source": [
    "df"
   ]
  },
  {
   "cell_type": "code",
   "execution_count": 258,
   "metadata": {},
   "outputs": [],
   "source": [
    "# Adding length features\n",
    "\n",
    "\n",
    "df['correct_char_count'] = df['Correct'].astype('str').apply(lambda x:len(x))\n",
    "df['incorrect_char_count'] = df['Incorrect'].astype('str').apply(lambda x:len(x))\n",
    "\n",
    "df['correct_word_count'] = df['Correct'].astype('str').apply(lambda x:len(x.split()))\n",
    "df['incorrect_word_count'] = df['Incorrect'].astype('str').apply(lambda x:len(x.split()))"
   ]
  },
  {
   "cell_type": "code",
   "execution_count": 259,
   "metadata": {},
   "outputs": [
    {
     "data": {
      "text/html": [
       "<div>\n",
       "<style scoped>\n",
       "    .dataframe tbody tr th:only-of-type {\n",
       "        vertical-align: middle;\n",
       "    }\n",
       "\n",
       "    .dataframe tbody tr th {\n",
       "        vertical-align: top;\n",
       "    }\n",
       "\n",
       "    .dataframe thead th {\n",
       "        text-align: right;\n",
       "    }\n",
       "</style>\n",
       "<table border=\"1\" class=\"dataframe\">\n",
       "  <thead>\n",
       "    <tr style=\"text-align: right;\">\n",
       "      <th></th>\n",
       "      <th>Incorrect</th>\n",
       "      <th>Correct</th>\n",
       "      <th>correct_char_count</th>\n",
       "      <th>incorrect_char_count</th>\n",
       "      <th>correct_word_count</th>\n",
       "      <th>incorrect_word_count</th>\n",
       "    </tr>\n",
       "  </thead>\n",
       "  <tbody>\n",
       "    <tr>\n",
       "      <th>0</th>\n",
       "      <td>The effect of widespread dud targets two face ...</td>\n",
       "      <td>1. The effect of \"widespread dud\" targets two ...</td>\n",
       "      <td>92</td>\n",
       "      <td>87</td>\n",
       "      <td>16</td>\n",
       "      <td>15</td>\n",
       "    </tr>\n",
       "    <tr>\n",
       "      <th>1</th>\n",
       "      <td>tax on sales of stores for non residents are s...</td>\n",
       "      <td>Capital Gains tax on the sale of properties fo...</td>\n",
       "      <td>355</td>\n",
       "      <td>334</td>\n",
       "      <td>63</td>\n",
       "      <td>59</td>\n",
       "    </tr>\n",
       "    <tr>\n",
       "      <th>2</th>\n",
       "      <td>Much many brands and sellers still in the market.</td>\n",
       "      <td>Many brands and sellers still in the market.</td>\n",
       "      <td>44</td>\n",
       "      <td>49</td>\n",
       "      <td>8</td>\n",
       "      <td>9</td>\n",
       "    </tr>\n",
       "    <tr>\n",
       "      <th>3</th>\n",
       "      <td>this is is the latest Maintenance release of S...</td>\n",
       "      <td>This is is the latest maintenance release of S...</td>\n",
       "      <td>55</td>\n",
       "      <td>54</td>\n",
       "      <td>10</td>\n",
       "      <td>10</td>\n",
       "    </tr>\n",
       "    <tr>\n",
       "      <th>4</th>\n",
       "      <td>Fairy Or Not, I'm the Godmother: no just look,...</td>\n",
       "      <td>Fairy Or Not, I'm the Godmother: Not just a lo...</td>\n",
       "      <td>100</td>\n",
       "      <td>94</td>\n",
       "      <td>20</td>\n",
       "      <td>18</td>\n",
       "    </tr>\n",
       "  </tbody>\n",
       "</table>\n",
       "</div>"
      ],
      "text/plain": [
       "                                           Incorrect  \\\n",
       "0  The effect of widespread dud targets two face ...   \n",
       "1  tax on sales of stores for non residents are s...   \n",
       "2  Much many brands and sellers still in the market.   \n",
       "3  this is is the latest Maintenance release of S...   \n",
       "4  Fairy Or Not, I'm the Godmother: no just look,...   \n",
       "\n",
       "                                             Correct  correct_char_count  \\\n",
       "0  1. The effect of \"widespread dud\" targets two ...                  92   \n",
       "1  Capital Gains tax on the sale of properties fo...                 355   \n",
       "2       Many brands and sellers still in the market.                  44   \n",
       "3  This is is the latest maintenance release of S...                  55   \n",
       "4  Fairy Or Not, I'm the Godmother: Not just a lo...                 100   \n",
       "\n",
       "   incorrect_char_count  correct_word_count  incorrect_word_count  \n",
       "0                    87                  16                    15  \n",
       "1                   334                  63                    59  \n",
       "2                    49                   8                     9  \n",
       "3                    54                  10                    10  \n",
       "4                    94                  20                    18  "
      ]
     },
     "execution_count": 259,
     "metadata": {},
     "output_type": "execute_result"
    }
   ],
   "source": [
    "df.head(5)"
   ]
  },
  {
   "cell_type": "markdown",
   "metadata": {},
   "source": [
    "# Preprocessing\n",
    "Removing Missing/NA"
   ]
  },
  {
   "cell_type": "code",
   "execution_count": 260,
   "metadata": {},
   "outputs": [
    {
     "data": {
      "text/html": [
       "<div>\n",
       "<style scoped>\n",
       "    .dataframe tbody tr th:only-of-type {\n",
       "        vertical-align: middle;\n",
       "    }\n",
       "\n",
       "    .dataframe tbody tr th {\n",
       "        vertical-align: top;\n",
       "    }\n",
       "\n",
       "    .dataframe thead th {\n",
       "        text-align: right;\n",
       "    }\n",
       "</style>\n",
       "<table border=\"1\" class=\"dataframe\">\n",
       "  <thead>\n",
       "    <tr style=\"text-align: right;\">\n",
       "      <th></th>\n",
       "      <th>missing_count</th>\n",
       "    </tr>\n",
       "  </thead>\n",
       "  <tbody>\n",
       "    <tr>\n",
       "      <th>Incorrect</th>\n",
       "      <td>0</td>\n",
       "    </tr>\n",
       "    <tr>\n",
       "      <th>Correct</th>\n",
       "      <td>0</td>\n",
       "    </tr>\n",
       "    <tr>\n",
       "      <th>correct_char_count</th>\n",
       "      <td>0</td>\n",
       "    </tr>\n",
       "    <tr>\n",
       "      <th>incorrect_char_count</th>\n",
       "      <td>0</td>\n",
       "    </tr>\n",
       "    <tr>\n",
       "      <th>correct_word_count</th>\n",
       "      <td>0</td>\n",
       "    </tr>\n",
       "    <tr>\n",
       "      <th>incorrect_word_count</th>\n",
       "      <td>0</td>\n",
       "    </tr>\n",
       "  </tbody>\n",
       "</table>\n",
       "</div>"
      ],
      "text/plain": [
       "                      missing_count\n",
       "Incorrect                         0\n",
       "Correct                           0\n",
       "correct_char_count                0\n",
       "incorrect_char_count              0\n",
       "correct_word_count                0\n",
       "incorrect_word_count              0"
      ]
     },
     "execution_count": 260,
     "metadata": {},
     "output_type": "execute_result"
    }
   ],
   "source": [
    "\n",
    "pd.DataFrame(df.isna().sum(),columns=['missing_count'])"
   ]
  },
  {
   "cell_type": "code",
   "execution_count": 261,
   "metadata": {},
   "outputs": [
    {
     "data": {
      "text/html": [
       "<div>\n",
       "<style scoped>\n",
       "    .dataframe tbody tr th:only-of-type {\n",
       "        vertical-align: middle;\n",
       "    }\n",
       "\n",
       "    .dataframe tbody tr th {\n",
       "        vertical-align: top;\n",
       "    }\n",
       "\n",
       "    .dataframe thead th {\n",
       "        text-align: right;\n",
       "    }\n",
       "</style>\n",
       "<table border=\"1\" class=\"dataframe\">\n",
       "  <thead>\n",
       "    <tr style=\"text-align: right;\">\n",
       "      <th></th>\n",
       "      <th>Incorrect</th>\n",
       "      <th>Correct</th>\n",
       "      <th>correct_char_count</th>\n",
       "      <th>incorrect_char_count</th>\n",
       "      <th>correct_word_count</th>\n",
       "      <th>incorrect_word_count</th>\n",
       "    </tr>\n",
       "  </thead>\n",
       "  <tbody>\n",
       "  </tbody>\n",
       "</table>\n",
       "</div>"
      ],
      "text/plain": [
       "Empty DataFrame\n",
       "Columns: [Incorrect, Correct, correct_char_count, incorrect_char_count, correct_word_count, incorrect_word_count]\n",
       "Index: []"
      ]
     },
     "execution_count": 261,
     "metadata": {},
     "output_type": "execute_result"
    }
   ],
   "source": [
    "\n",
    "df[df.isna().any(axis=1)]"
   ]
  },
  {
   "cell_type": "code",
   "execution_count": 262,
   "metadata": {},
   "outputs": [],
   "source": [
    "\n",
    "df = df.dropna().reset_index(drop=True)"
   ]
  },
  {
   "cell_type": "code",
   "execution_count": 263,
   "metadata": {},
   "outputs": [
    {
     "data": {
      "text/plain": [
       "(100000, 6)"
      ]
     },
     "execution_count": 263,
     "metadata": {},
     "output_type": "execute_result"
    }
   ],
   "source": [
    "\n",
    "df.shape"
   ]
  },
  {
   "cell_type": "markdown",
   "metadata": {},
   "source": [
    "Keep unique sentence pairs"
   ]
  },
  {
   "cell_type": "code",
   "execution_count": 264,
   "metadata": {},
   "outputs": [
    {
     "name": "stdout",
     "output_type": "stream",
     "text": [
      "total number of duplicate pairs: 590\n"
     ]
    }
   ],
   "source": [
    "print(f\"total number of duplicate pairs: {len(df[df['Correct']==df['Incorrect']])}\")"
   ]
  },
  {
   "cell_type": "code",
   "execution_count": 265,
   "metadata": {},
   "outputs": [
    {
     "data": {
      "text/html": [
       "<div>\n",
       "<style scoped>\n",
       "    .dataframe tbody tr th:only-of-type {\n",
       "        vertical-align: middle;\n",
       "    }\n",
       "\n",
       "    .dataframe tbody tr th {\n",
       "        vertical-align: top;\n",
       "    }\n",
       "\n",
       "    .dataframe thead th {\n",
       "        text-align: right;\n",
       "    }\n",
       "</style>\n",
       "<table border=\"1\" class=\"dataframe\">\n",
       "  <thead>\n",
       "    <tr style=\"text-align: right;\">\n",
       "      <th></th>\n",
       "      <th>Incorrect</th>\n",
       "      <th>Correct</th>\n",
       "      <th>correct_char_count</th>\n",
       "      <th>incorrect_char_count</th>\n",
       "      <th>correct_word_count</th>\n",
       "      <th>incorrect_word_count</th>\n",
       "    </tr>\n",
       "  </thead>\n",
       "  <tbody>\n",
       "    <tr>\n",
       "      <th>16491</th>\n",
       "      <td>Let’s play “two truths and a lie” about brewin...</td>\n",
       "      <td>Let’s play “two truths and a lie” about brewin...</td>\n",
       "      <td>72</td>\n",
       "      <td>72</td>\n",
       "      <td>13</td>\n",
       "      <td>13</td>\n",
       "    </tr>\n",
       "    <tr>\n",
       "      <th>70215</th>\n",
       "      <td>are regularly evaluated and reviewed.</td>\n",
       "      <td>are regularly evaluated and reviewed.</td>\n",
       "      <td>37</td>\n",
       "      <td>37</td>\n",
       "      <td>5</td>\n",
       "      <td>5</td>\n",
       "    </tr>\n",
       "    <tr>\n",
       "      <th>57101</th>\n",
       "      <td>The Wise Men came from afar to seek Jesus. Are...</td>\n",
       "      <td>The Wise Men came from afar to seek Jesus. Are...</td>\n",
       "      <td>69</td>\n",
       "      <td>69</td>\n",
       "      <td>14</td>\n",
       "      <td>14</td>\n",
       "    </tr>\n",
       "    <tr>\n",
       "      <th>5154</th>\n",
       "      <td>Sketch effortlessly in Adobe Illustrator using...</td>\n",
       "      <td>Sketch effortlessly in Adobe Illustrator using...</td>\n",
       "      <td>64</td>\n",
       "      <td>64</td>\n",
       "      <td>8</td>\n",
       "      <td>8</td>\n",
       "    </tr>\n",
       "    <tr>\n",
       "      <th>55655</th>\n",
       "      <td>Ratio of instructor to student 1:1.</td>\n",
       "      <td>Ratio of instructor to student 1:1.</td>\n",
       "      <td>35</td>\n",
       "      <td>35</td>\n",
       "      <td>6</td>\n",
       "      <td>6</td>\n",
       "    </tr>\n",
       "  </tbody>\n",
       "</table>\n",
       "</div>"
      ],
      "text/plain": [
       "                                               Incorrect  \\\n",
       "16491  Let’s play “two truths and a lie” about brewin...   \n",
       "70215              are regularly evaluated and reviewed.   \n",
       "57101  The Wise Men came from afar to seek Jesus. Are...   \n",
       "5154   Sketch effortlessly in Adobe Illustrator using...   \n",
       "55655                Ratio of instructor to student 1:1.   \n",
       "\n",
       "                                                 Correct  correct_char_count  \\\n",
       "16491  Let’s play “two truths and a lie” about brewin...                  72   \n",
       "70215              are regularly evaluated and reviewed.                  37   \n",
       "57101  The Wise Men came from afar to seek Jesus. Are...                  69   \n",
       "5154   Sketch effortlessly in Adobe Illustrator using...                  64   \n",
       "55655                Ratio of instructor to student 1:1.                  35   \n",
       "\n",
       "       incorrect_char_count  correct_word_count  incorrect_word_count  \n",
       "16491                    72                  13                    13  \n",
       "70215                    37                   5                     5  \n",
       "57101                    69                  14                    14  \n",
       "5154                     64                   8                     8  \n",
       "55655                    35                   6                     6  "
      ]
     },
     "execution_count": 265,
     "metadata": {},
     "output_type": "execute_result"
    }
   ],
   "source": [
    "\n",
    "df[df['Correct']==df['Incorrect']].sample(5)"
   ]
  },
  {
   "cell_type": "code",
   "execution_count": 266,
   "metadata": {},
   "outputs": [],
   "source": [
    "df = df[df['Correct']!=df['Incorrect']]"
   ]
  },
  {
   "cell_type": "code",
   "execution_count": 267,
   "metadata": {},
   "outputs": [
    {
     "data": {
      "text/plain": [
       "(99410, 6)"
      ]
     },
     "execution_count": 267,
     "metadata": {},
     "output_type": "execute_result"
    }
   ],
   "source": [
    "df.shape"
   ]
  },
  {
   "cell_type": "code",
   "execution_count": 268,
   "metadata": {},
   "outputs": [
    {
     "data": {
      "text/html": [
       "<div>\n",
       "<style scoped>\n",
       "    .dataframe tbody tr th:only-of-type {\n",
       "        vertical-align: middle;\n",
       "    }\n",
       "\n",
       "    .dataframe tbody tr th {\n",
       "        vertical-align: top;\n",
       "    }\n",
       "\n",
       "    .dataframe thead th {\n",
       "        text-align: right;\n",
       "    }\n",
       "</style>\n",
       "<table border=\"1\" class=\"dataframe\">\n",
       "  <thead>\n",
       "    <tr style=\"text-align: right;\">\n",
       "      <th></th>\n",
       "      <th>Incorrect</th>\n",
       "      <th>Correct</th>\n",
       "      <th>correct_char_count</th>\n",
       "      <th>incorrect_char_count</th>\n",
       "      <th>correct_word_count</th>\n",
       "      <th>incorrect_word_count</th>\n",
       "    </tr>\n",
       "  </thead>\n",
       "  <tbody>\n",
       "    <tr>\n",
       "      <th>89088</th>\n",
       "      <td>Double Dragon (SEGA GENESIS) Is tested!</td>\n",
       "      <td>Double Dragon (SEGA GENESIS) Tested!</td>\n",
       "      <td>36</td>\n",
       "      <td>39</td>\n",
       "      <td>5</td>\n",
       "      <td>6</td>\n",
       "    </tr>\n",
       "    <tr>\n",
       "      <th>49346</th>\n",
       "      <td>2 game units can be to skills head-to-head com...</td>\n",
       "      <td>2 game units can be linked for head-to-head co...</td>\n",
       "      <td>57</td>\n",
       "      <td>56</td>\n",
       "      <td>9</td>\n",
       "      <td>9</td>\n",
       "    </tr>\n",
       "    <tr>\n",
       "      <th>11648</th>\n",
       "      <td>No CPU cooled, as it would have raised the pri...</td>\n",
       "      <td>No CPU cooling, as it would have raised the pr...</td>\n",
       "      <td>121</td>\n",
       "      <td>118</td>\n",
       "      <td>25</td>\n",
       "      <td>24</td>\n",
       "    </tr>\n",
       "    <tr>\n",
       "      <th>44485</th>\n",
       "      <td>Have a question about our Recreation ministry. {</td>\n",
       "      <td>Have questions about our recreation ministry?</td>\n",
       "      <td>45</td>\n",
       "      <td>48</td>\n",
       "      <td>6</td>\n",
       "      <td>8</td>\n",
       "    </tr>\n",
       "    <tr>\n",
       "      <th>30496</th>\n",
       "      <td>The day in which I've eyewitness the anti-Trum...</td>\n",
       "      <td>The day I witnessed the anti-Trump protest was...</td>\n",
       "      <td>322</td>\n",
       "      <td>340</td>\n",
       "      <td>58</td>\n",
       "      <td>62</td>\n",
       "    </tr>\n",
       "  </tbody>\n",
       "</table>\n",
       "</div>"
      ],
      "text/plain": [
       "                                               Incorrect  \\\n",
       "89088            Double Dragon (SEGA GENESIS) Is tested!   \n",
       "49346  2 game units can be to skills head-to-head com...   \n",
       "11648  No CPU cooled, as it would have raised the pri...   \n",
       "44485   Have a question about our Recreation ministry. {   \n",
       "30496  The day in which I've eyewitness the anti-Trum...   \n",
       "\n",
       "                                                 Correct  correct_char_count  \\\n",
       "89088               Double Dragon (SEGA GENESIS) Tested!                  36   \n",
       "49346  2 game units can be linked for head-to-head co...                  57   \n",
       "11648  No CPU cooling, as it would have raised the pr...                 121   \n",
       "44485      Have questions about our recreation ministry?                  45   \n",
       "30496  The day I witnessed the anti-Trump protest was...                 322   \n",
       "\n",
       "       incorrect_char_count  correct_word_count  incorrect_word_count  \n",
       "89088                    39                   5                     6  \n",
       "49346                    56                   9                     9  \n",
       "11648                   118                  25                    24  \n",
       "44485                    48                   6                     8  \n",
       "30496                   340                  58                    62  "
      ]
     },
     "execution_count": 268,
     "metadata": {},
     "output_type": "execute_result"
    }
   ],
   "source": [
    "df.sample(5)"
   ]
  },
  {
   "cell_type": "markdown",
   "metadata": {},
   "source": [
    "Remove Duplicates"
   ]
  },
  {
   "cell_type": "code",
   "execution_count": 269,
   "metadata": {},
   "outputs": [
    {
     "name": "stdout",
     "output_type": "stream",
     "text": [
      "total number of duplicates: 0\n"
     ]
    }
   ],
   "source": [
    "\n",
    "print(f'total number of duplicates: {df.duplicated().sum()}')"
   ]
  },
  {
   "cell_type": "code",
   "execution_count": 270,
   "metadata": {},
   "outputs": [
    {
     "data": {
      "text/html": [
       "<div>\n",
       "<style scoped>\n",
       "    .dataframe tbody tr th:only-of-type {\n",
       "        vertical-align: middle;\n",
       "    }\n",
       "\n",
       "    .dataframe tbody tr th {\n",
       "        vertical-align: top;\n",
       "    }\n",
       "\n",
       "    .dataframe thead th {\n",
       "        text-align: right;\n",
       "    }\n",
       "</style>\n",
       "<table border=\"1\" class=\"dataframe\">\n",
       "  <thead>\n",
       "    <tr style=\"text-align: right;\">\n",
       "      <th></th>\n",
       "      <th>Incorrect</th>\n",
       "      <th>Correct</th>\n",
       "      <th>correct_char_count</th>\n",
       "      <th>incorrect_char_count</th>\n",
       "      <th>correct_word_count</th>\n",
       "      <th>incorrect_word_count</th>\n",
       "    </tr>\n",
       "  </thead>\n",
       "  <tbody>\n",
       "  </tbody>\n",
       "</table>\n",
       "</div>"
      ],
      "text/plain": [
       "Empty DataFrame\n",
       "Columns: [Incorrect, Correct, correct_char_count, incorrect_char_count, correct_word_count, incorrect_word_count]\n",
       "Index: []"
      ]
     },
     "execution_count": 270,
     "metadata": {},
     "output_type": "execute_result"
    }
   ],
   "source": [
    "\n",
    "df[df.duplicated(keep=False)].sort_values('Correct')"
   ]
  },
  {
   "cell_type": "code",
   "execution_count": 271,
   "metadata": {},
   "outputs": [],
   "source": [
    "\n",
    "df = df.drop_duplicates().reset_index(drop=True)"
   ]
  },
  {
   "cell_type": "code",
   "execution_count": 272,
   "metadata": {},
   "outputs": [
    {
     "data": {
      "text/plain": [
       "(99410, 6)"
      ]
     },
     "execution_count": 272,
     "metadata": {},
     "output_type": "execute_result"
    }
   ],
   "source": [
    "df.shape"
   ]
  },
  {
   "cell_type": "code",
   "execution_count": 273,
   "metadata": {},
   "outputs": [
    {
     "data": {
      "text/html": [
       "<div>\n",
       "<style scoped>\n",
       "    .dataframe tbody tr th:only-of-type {\n",
       "        vertical-align: middle;\n",
       "    }\n",
       "\n",
       "    .dataframe tbody tr th {\n",
       "        vertical-align: top;\n",
       "    }\n",
       "\n",
       "    .dataframe thead th {\n",
       "        text-align: right;\n",
       "    }\n",
       "</style>\n",
       "<table border=\"1\" class=\"dataframe\">\n",
       "  <thead>\n",
       "    <tr style=\"text-align: right;\">\n",
       "      <th></th>\n",
       "      <th>Incorrect</th>\n",
       "      <th>Correct</th>\n",
       "      <th>correct_char_count</th>\n",
       "      <th>incorrect_char_count</th>\n",
       "      <th>correct_word_count</th>\n",
       "      <th>incorrect_word_count</th>\n",
       "    </tr>\n",
       "  </thead>\n",
       "  <tbody>\n",
       "    <tr>\n",
       "      <th>11961</th>\n",
       "      <td>Logan: Excellent and we’ll of course have link...</td>\n",
       "      <td>Logan: Excellent and we’ll of course have link...</td>\n",
       "      <td>269</td>\n",
       "      <td>269</td>\n",
       "      <td>53</td>\n",
       "      <td>53</td>\n",
       "    </tr>\n",
       "    <tr>\n",
       "      <th>23664</th>\n",
       "      <td>Naruto Shippuden. 2 eps back-to-back, Mon-Fri,...</td>\n",
       "      <td>Naruto Shippuden. 2 eps back-to-back, Mon-Fri,...</td>\n",
       "      <td>146</td>\n",
       "      <td>157</td>\n",
       "      <td>20</td>\n",
       "      <td>23</td>\n",
       "    </tr>\n",
       "    <tr>\n",
       "      <th>39344</th>\n",
       "      <td>To approve the responsibilities of kg on stude...</td>\n",
       "      <td>Approves the provisions on student self-govern...</td>\n",
       "      <td>58</td>\n",
       "      <td>72</td>\n",
       "      <td>7</td>\n",
       "      <td>10</td>\n",
       "    </tr>\n",
       "    <tr>\n",
       "      <th>85334</th>\n",
       "      <td>However, the study does not explain this corre...</td>\n",
       "      <td>However, the study does not explain this corre...</td>\n",
       "      <td>212</td>\n",
       "      <td>218</td>\n",
       "      <td>37</td>\n",
       "      <td>38</td>\n",
       "    </tr>\n",
       "    <tr>\n",
       "      <th>34104</th>\n",
       "      <td>The company can assign trained combatant to pr...</td>\n",
       "      <td>The company can assign a certified trainer to ...</td>\n",
       "      <td>201</td>\n",
       "      <td>196</td>\n",
       "      <td>33</td>\n",
       "      <td>32</td>\n",
       "    </tr>\n",
       "  </tbody>\n",
       "</table>\n",
       "</div>"
      ],
      "text/plain": [
       "                                               Incorrect  \\\n",
       "11961  Logan: Excellent and we’ll of course have link...   \n",
       "23664  Naruto Shippuden. 2 eps back-to-back, Mon-Fri,...   \n",
       "39344  To approve the responsibilities of kg on stude...   \n",
       "85334  However, the study does not explain this corre...   \n",
       "34104  The company can assign trained combatant to pr...   \n",
       "\n",
       "                                                 Correct  correct_char_count  \\\n",
       "11961  Logan: Excellent and we’ll of course have link...                 269   \n",
       "23664  Naruto Shippuden. 2 eps back-to-back, Mon-Fri,...                 146   \n",
       "39344  Approves the provisions on student self-govern...                  58   \n",
       "85334  However, the study does not explain this corre...                 212   \n",
       "34104  The company can assign a certified trainer to ...                 201   \n",
       "\n",
       "       incorrect_char_count  correct_word_count  incorrect_word_count  \n",
       "11961                   269                  53                    53  \n",
       "23664                   157                  20                    23  \n",
       "39344                    72                   7                    10  \n",
       "85334                   218                  37                    38  \n",
       "34104                   196                  33                    32  "
      ]
     },
     "execution_count": 273,
     "metadata": {},
     "output_type": "execute_result"
    }
   ],
   "source": [
    "df.sample(5)"
   ]
  },
  {
   "cell_type": "markdown",
   "metadata": {},
   "source": [
    "Remove Small sentences"
   ]
  },
  {
   "cell_type": "code",
   "execution_count": 274,
   "metadata": {},
   "outputs": [
    {
     "data": {
      "text/plain": [
       "(0, 6)"
      ]
     },
     "execution_count": 274,
     "metadata": {},
     "output_type": "execute_result"
    }
   ],
   "source": [
    "df[df['incorrect_char_count']<2].shape"
   ]
  },
  {
   "cell_type": "code",
   "execution_count": 275,
   "metadata": {},
   "outputs": [],
   "source": [
    "\n",
    "df = df[df['incorrect_char_count']>2].reset_index(drop=True)"
   ]
  },
  {
   "cell_type": "code",
   "execution_count": 276,
   "metadata": {},
   "outputs": [
    {
     "data": {
      "text/plain": [
       "(99409, 6)"
      ]
     },
     "execution_count": 276,
     "metadata": {},
     "output_type": "execute_result"
    }
   ],
   "source": [
    "df.shape"
   ]
  },
  {
   "cell_type": "code",
   "execution_count": 277,
   "metadata": {},
   "outputs": [
    {
     "data": {
      "text/plain": [
       "(0, 6)"
      ]
     },
     "execution_count": 277,
     "metadata": {},
     "output_type": "execute_result"
    }
   ],
   "source": [
    "df[df['correct_char_count']<2].shape"
   ]
  },
  {
   "cell_type": "code",
   "execution_count": 278,
   "metadata": {},
   "outputs": [
    {
     "data": {
      "text/plain": [
       "<bound method NDFrame.sample of Empty DataFrame\n",
       "Columns: [Incorrect, Correct, correct_char_count, incorrect_char_count, correct_word_count, incorrect_word_count]\n",
       "Index: []>"
      ]
     },
     "execution_count": 278,
     "metadata": {},
     "output_type": "execute_result"
    }
   ],
   "source": [
    "df[df['correct_char_count']<2].sample"
   ]
  },
  {
   "cell_type": "code",
   "execution_count": 279,
   "metadata": {},
   "outputs": [],
   "source": [
    "df = df[df['correct_char_count']>2].reset_index(drop=True)"
   ]
  },
  {
   "cell_type": "code",
   "execution_count": 280,
   "metadata": {},
   "outputs": [
    {
     "data": {
      "text/plain": [
       "(99409, 6)"
      ]
     },
     "execution_count": 280,
     "metadata": {},
     "output_type": "execute_result"
    }
   ],
   "source": [
    "df.shape"
   ]
  },
  {
   "cell_type": "markdown",
   "metadata": {},
   "source": [
    "Cleaning Text"
   ]
  },
  {
   "cell_type": "code",
   "execution_count": 281,
   "metadata": {},
   "outputs": [],
   "source": [
    "#https://www.analyticsvidhya.com/blog/2020/04/beginners-guide-exploratory-data-analysis-text-data/\n",
    "contractions_dict = { \"ain't\": \"are not\",\"'s\":\" is\",\"aren't\": \"are not\",\n",
    "                     \"can't\": \"cannot\",\"can't've\": \"cannot have\",\n",
    "                     \"'cause\": \"because\",\"could've\": \"could have\",\"couldn't\": \"could not\",\n",
    "                     \"couldn't've\": \"could not have\", \"didn't\": \"did not\",\"doesn't\": \"does not\",\n",
    "                     \"don't\": \"do not\",\"hadn't\": \"had not\",\"hadn't've\": \"had not have\",\n",
    "                     \"hasn't\": \"has not\",\"haven't\": \"have not\",\"he'd\": \"he would\",\n",
    "                     \"he'd've\": \"he would have\",\"he'll\": \"he will\", \"he'll've\": \"he will have\",\n",
    "                     \"how'd\": \"how did\",\"how'd'y\": \"how do you\",\"how'll\": \"how will\",\n",
    "                     \"I'd\": \"I would\", \"I'd've\": \"I would have\",\"I'll\": \"I will\",\n",
    "                     \"I'll've\": \"I will have\",\"I'm\": \"I am\",\"I've\": \"I have\", \"isn't\": \"is not\",\n",
    "                     \"it'd\": \"it would\",\"it'd've\": \"it would have\",\"it'll\": \"it will\",\n",
    "                     \"it'll've\": \"it will have\", \"let's\": \"let us\",\"ma'am\": \"madam\",\n",
    "                     \"mayn't\": \"may not\",\"might've\": \"might have\",\"mightn't\": \"might not\", \n",
    "                     \"mightn't've\": \"might not have\",\"must've\": \"must have\",\"mustn't\": \"must not\",\n",
    "                     \"mustn't've\": \"must not have\", \"needn't\": \"need not\",\n",
    "                     \"needn't've\": \"need not have\",\"o'clock\": \"of the clock\",\"oughtn't\": \"ought not\",\n",
    "                     \"oughtn't've\": \"ought not have\",\"shan't\": \"shall not\",\"sha'n't\": \"shall not\",\n",
    "                     \"shan't've\": \"shall not have\",\"she'd\": \"she would\",\"she'd've\": \"she would have\",\n",
    "                     \"she'll\": \"she will\", \"she'll've\": \"she will have\",\"should've\": \"should have\",\n",
    "                     \"shouldn't\": \"should not\", \"shouldn't've\": \"should not have\",\"so've\": \"so have\",\n",
    "                     \"that'd\": \"that would\",\"that'd've\": \"that would have\", \"there'd\": \"there would\",\n",
    "                     \"there'd've\": \"there would have\", \"they'd\": \"they would\",\n",
    "                     \"they'd've\": \"they would have\",\"they'll\": \"they will\",\n",
    "                     \"they'll've\": \"they will have\", \"they're\": \"they are\",\"they've\": \"they have\",\n",
    "                     \"to've\": \"to have\",\"wasn't\": \"was not\",\"we'd\": \"we would\",\n",
    "                     \"we'd've\": \"we would have\",\"we'll\": \"we will\",\"we'll've\": \"we will have\",\n",
    "                     \"we're\": \"we are\",\"we've\": \"we have\", \"weren't\": \"were not\",\"what'll\": \"what will\",\n",
    "                     \"what'll've\": \"what will have\",\"what're\": \"what are\", \"what've\": \"what have\",\n",
    "                     \"when've\": \"when have\",\"where'd\": \"where did\", \"where've\": \"where have\",\n",
    "                     \"who'll\": \"who will\",\"who'll've\": \"who will have\",\"who've\": \"who have\",\n",
    "                     \"why've\": \"why have\",\"will've\": \"will have\",\"won't\": \"will not\",\n",
    "                     \"won't've\": \"will not have\", \"would've\": \"would have\",\"wouldn't\": \"would not\",\n",
    "                     \"wouldn't've\": \"would not have\",\"y'all\": \"you all\", \"y'all'd\": \"you all would\",\n",
    "                     \"y'all'd've\": \"you all would have\",\"y'all're\": \"you all are\",\n",
    "                     \"y'all've\": \"you all have\", \"you'd\": \"you would\",\"you'd've\": \"you would have\",\n",
    "                     \"you'll\": \"you will\",\"you'll've\": \"you will have\", \"you're\": \"you are\",\n",
    "                     \"you've\": \"you have\",\"n\\'t\":\" not\",\"\\'re\":\" are\",\"\\'s\": \" is\",\"\\'d\":\" would\",\n",
    "                     \"\\'ll\": \" will\",\"\\'t\":\" not\",\"\\'ve\": \" have\",\"\\'m\":\" am\"}\n",
    "\n",
    "\n",
    "# Regular expression for finding contractions\n",
    "contractions_re=re.compile('(%s)' % '|'.join(contractions_dict.keys()))\n",
    "\n",
    "# Function for expanding contractions\n",
    "def expand_contractions(text,contractions_dict=contractions_dict):\n",
    "    def replace(match):\n",
    "        return contractions_dict[match.group(0)]\n",
    "    return contractions_re.sub(replace, text)"
   ]
  },
  {
   "cell_type": "code",
   "execution_count": 282,
   "metadata": {},
   "outputs": [],
   "source": [
    "def clean(text):\n",
    "    text = re.sub('\\s*\\<.*?\\>\\s', '', text)\n",
    "    text = re.sub('\\s*.*?\\s', '', text)\n",
    "    text = re.sub('\\s*.*?\\s', '', text)\n",
    "    text = re.sub('\\s*\\{.*?\\}\\s', '', text)\n",
    "    text = re.sub(\"[-+@#^/|*(){}$~<>=_%:;]\",\"\",text)\n",
    "    text = text.replace(\"\\\\\",\"\")\n",
    "    text = re.sub(\"\\[\",\"\",text)\n",
    "    text = re.sub(\"\\]\",\"\",text)\n",
    "    text = re.sub(\"\\<\",\"\",text)\n",
    "    text = re.sub(\"\\>\",\"\",text)\n",
    "    text = re.sub(\"\\(\",\"\",text)\n",
    "    text = re.sub(\"\\)\",\"\",text)\n",
    "    text = re.sub(\"[0-9]\",\"\",text)\n",
    "    text = ' '.join(text.split())\n",
    "    return text"
   ]
  },
  {
   "cell_type": "code",
   "execution_count": 283,
   "metadata": {},
   "outputs": [
    {
     "name": "stderr",
     "output_type": "stream",
     "text": [
      "  0%|          | 0/99409 [00:00<?, ?it/s]"
     ]
    },
    {
     "name": "stderr",
     "output_type": "stream",
     "text": [
      "100%|██████████| 99409/99409 [00:04<00:00, 24134.48it/s]\n"
     ]
    }
   ],
   "source": [
    "\n",
    "# df['Correct'] = df['Correct'].progress_apply(clean)\n",
    "df['Correct'] = df['Correct'].progress_apply(expand_contractions)"
   ]
  },
  {
   "cell_type": "code",
   "execution_count": 284,
   "metadata": {},
   "outputs": [
    {
     "name": "stderr",
     "output_type": "stream",
     "text": [
      "  0%|          | 0/99409 [00:00<?, ?it/s]"
     ]
    },
    {
     "name": "stderr",
     "output_type": "stream",
     "text": [
      "100%|██████████| 99409/99409 [00:03<00:00, 26653.22it/s]\n"
     ]
    }
   ],
   "source": [
    "\n",
    "# df['Incorrect'] = df['Incorrect'].progress_apply(clean)\n",
    "df['Incorrect'] = df['Incorrect'].progress_apply(expand_contractions)"
   ]
  },
  {
   "cell_type": "code",
   "execution_count": 285,
   "metadata": {},
   "outputs": [
    {
     "data": {
      "text/html": [
       "<div>\n",
       "<style scoped>\n",
       "    .dataframe tbody tr th:only-of-type {\n",
       "        vertical-align: middle;\n",
       "    }\n",
       "\n",
       "    .dataframe tbody tr th {\n",
       "        vertical-align: top;\n",
       "    }\n",
       "\n",
       "    .dataframe thead th {\n",
       "        text-align: right;\n",
       "    }\n",
       "</style>\n",
       "<table border=\"1\" class=\"dataframe\">\n",
       "  <thead>\n",
       "    <tr style=\"text-align: right;\">\n",
       "      <th></th>\n",
       "      <th>Incorrect</th>\n",
       "      <th>Correct</th>\n",
       "      <th>correct_char_count</th>\n",
       "      <th>incorrect_char_count</th>\n",
       "      <th>correct_word_count</th>\n",
       "      <th>incorrect_word_count</th>\n",
       "    </tr>\n",
       "  </thead>\n",
       "  <tbody>\n",
       "    <tr>\n",
       "      <th>23843</th>\n",
       "      <td>The revocation of such agreement on the use of...</td>\n",
       "      <td>The revocation of such agreement on the use of...</td>\n",
       "      <td>159</td>\n",
       "      <td>154</td>\n",
       "      <td>28</td>\n",
       "      <td>28</td>\n",
       "    </tr>\n",
       "    <tr>\n",
       "      <th>3143</th>\n",
       "      <td>BORRENPOHL-Kelli and Steve Borrenpohl of Vened...</td>\n",
       "      <td>BORRENPOHL — Kelli and Steve Borrenpohl of Ven...</td>\n",
       "      <td>67</td>\n",
       "      <td>64</td>\n",
       "      <td>12</td>\n",
       "      <td>8</td>\n",
       "    </tr>\n",
       "    <tr>\n",
       "      <th>38668</th>\n",
       "      <td>Due to popular demand we will only be abccepti...</td>\n",
       "      <td>Due to popular demand, we will only be accepti...</td>\n",
       "      <td>78</td>\n",
       "      <td>79</td>\n",
       "      <td>16</td>\n",
       "      <td>16</td>\n",
       "    </tr>\n",
       "    <tr>\n",
       "      <th>74215</th>\n",
       "      <td>Most of the stuff should be available with any...</td>\n",
       "      <td>Most of the stuff should be available at any l...</td>\n",
       "      <td>79</td>\n",
       "      <td>89</td>\n",
       "      <td>15</td>\n",
       "      <td>17</td>\n",
       "    </tr>\n",
       "    <tr>\n",
       "      <th>30082</th>\n",
       "      <td>If a future in sustainability farming is to be...</td>\n",
       "      <td>If a future in sustainable farming is to be ac...</td>\n",
       "      <td>228</td>\n",
       "      <td>234</td>\n",
       "      <td>38</td>\n",
       "      <td>42</td>\n",
       "    </tr>\n",
       "    <tr>\n",
       "      <th>64739</th>\n",
       "      <td>Ogle, Andy. \"A treasure of plant life; Museum ...</td>\n",
       "      <td>Ogle, Andy. \"A treasure of plant life; Museum ...</td>\n",
       "      <td>140</td>\n",
       "      <td>129</td>\n",
       "      <td>20</td>\n",
       "      <td>20</td>\n",
       "    </tr>\n",
       "    <tr>\n",
       "      <th>47314</th>\n",
       "      <td>In any event, there is no possibility l ate of...</td>\n",
       "      <td>In any event, there is no possibility of the o...</td>\n",
       "      <td>265</td>\n",
       "      <td>267</td>\n",
       "      <td>46</td>\n",
       "      <td>48</td>\n",
       "    </tr>\n",
       "    <tr>\n",
       "      <th>70787</th>\n",
       "      <td>03 Apr 2017 - Michael Sheppard is 8pm.</td>\n",
       "      <td>03 Apr 2017 - 6:14 PM Michael Sheppard Updated...</td>\n",
       "      <td>52</td>\n",
       "      <td>37</td>\n",
       "      <td>10</td>\n",
       "      <td>7</td>\n",
       "    </tr>\n",
       "    <tr>\n",
       "      <th>80186</th>\n",
       "      <td>Virus wont go away and the lad still feeling a...</td>\n",
       "      <td>The virus will not go away and the lad is stil...</td>\n",
       "      <td>65</td>\n",
       "      <td>57</td>\n",
       "      <td>14</td>\n",
       "      <td>12</td>\n",
       "    </tr>\n",
       "    <tr>\n",
       "      <th>8325</th>\n",
       "      <td>I love the look of the vintage bath hardware, ...</td>\n",
       "      <td>I love the look of the vintage bath hardware, ...</td>\n",
       "      <td>88</td>\n",
       "      <td>91</td>\n",
       "      <td>14</td>\n",
       "      <td>16</td>\n",
       "    </tr>\n",
       "  </tbody>\n",
       "</table>\n",
       "</div>"
      ],
      "text/plain": [
       "                                               Incorrect  \\\n",
       "23843  The revocation of such agreement on the use of...   \n",
       "3143   BORRENPOHL-Kelli and Steve Borrenpohl of Vened...   \n",
       "38668  Due to popular demand we will only be abccepti...   \n",
       "74215  Most of the stuff should be available with any...   \n",
       "30082  If a future in sustainability farming is to be...   \n",
       "64739  Ogle, Andy. \"A treasure of plant life; Museum ...   \n",
       "47314  In any event, there is no possibility l ate of...   \n",
       "70787             03 Apr 2017 - Michael Sheppard is 8pm.   \n",
       "80186  Virus wont go away and the lad still feeling a...   \n",
       "8325   I love the look of the vintage bath hardware, ...   \n",
       "\n",
       "                                                 Correct  correct_char_count  \\\n",
       "23843  The revocation of such agreement on the use of...                 159   \n",
       "3143   BORRENPOHL — Kelli and Steve Borrenpohl of Ven...                  67   \n",
       "38668  Due to popular demand, we will only be accepti...                  78   \n",
       "74215  Most of the stuff should be available at any l...                  79   \n",
       "30082  If a future in sustainable farming is to be ac...                 228   \n",
       "64739  Ogle, Andy. \"A treasure of plant life; Museum ...                 140   \n",
       "47314  In any event, there is no possibility of the o...                 265   \n",
       "70787  03 Apr 2017 - 6:14 PM Michael Sheppard Updated...                  52   \n",
       "80186  The virus will not go away and the lad is stil...                  65   \n",
       "8325   I love the look of the vintage bath hardware, ...                  88   \n",
       "\n",
       "       incorrect_char_count  correct_word_count  incorrect_word_count  \n",
       "23843                   154                  28                    28  \n",
       "3143                     64                  12                     8  \n",
       "38668                    79                  16                    16  \n",
       "74215                    89                  15                    17  \n",
       "30082                   234                  38                    42  \n",
       "64739                   129                  20                    20  \n",
       "47314                   267                  46                    48  \n",
       "70787                    37                  10                     7  \n",
       "80186                    57                  14                    12  \n",
       "8325                     91                  14                    16  "
      ]
     },
     "execution_count": 285,
     "metadata": {},
     "output_type": "execute_result"
    }
   ],
   "source": [
    "df.sample(10)"
   ]
  },
  {
   "cell_type": "code",
   "execution_count": 286,
   "metadata": {},
   "outputs": [],
   "source": [
    "def remove_spaces(text) : \n",
    "    text = re.sub(r\" '(\\w)\",r\"'\\1\",text)\n",
    "    text = re.sub(r\" \\,\",\",\",text)\n",
    "    text = re.sub(r\" \\.+\",\".\",text)\n",
    "    text = re.sub(r\" \\!+\",\"!\",text)\n",
    "    text = re.sub(r\" \\?+\",\"?\",text)\n",
    "    text = re.sub(\" n't\",\"n't\",text)\n",
    "    text = re.sub(\"[\\(\\)\\;\\_\\^\\`\\/]\",\"\",text)\n",
    "    \n",
    "    return text\n",
    "\n",
    "\n",
    "def decontract(text) : \n",
    "    text = re.sub(r\"won\\'t\", \"will not\", text)\n",
    "    text = re.sub(r\"can\\'t\", \"can not\", text)\n",
    "    text = re.sub(r\"n\\'t\", \" not\", text)\n",
    "    text = re.sub(r\"\\'re\", \" are\", text)\n",
    "    text = re.sub(r\"\\'s\", \" is\", text)\n",
    "    text = re.sub(r\"\\'d\", \" would\", text)\n",
    "    text = re.sub(r\"\\'ll\", \" will\", text)\n",
    "    text = re.sub(r\"\\'t\", \" not\", text)\n",
    "    text = re.sub(r\"\\'ve\", \" have\", text)\n",
    "    text = re.sub(r\"\\'m\", \" am\", text)\n",
    "    \n",
    "    return text\n",
    "\n"
   ]
  },
  {
   "cell_type": "code",
   "execution_count": 287,
   "metadata": {},
   "outputs": [],
   "source": [
    "def WrongSentence_preprocessing(col) : \n",
    "    df[col] = df[col].astype(str) \n",
    "    df[col] = df[col].apply(lambda x:x.lower()) \n",
    "    df[col] = df[col].apply(lambda x : re.sub(\"\\n\",\"\",x)) \n",
    "    df[col] = df[col].apply(lambda x : remove_spaces(x)) \n",
    "    df[col] = df[col].apply(lambda x : re.sub(r\"\\.+\",\".\",x)) \n",
    "    df[col] = df[col].apply(lambda x : re.sub(r\"\\!+\",\"!\",x)) \n",
    "    df[col] = df[col].apply(lambda x : decontract(x)) \n",
    "    df[col] = df[col].apply(lambda x: re.sub(\"[^A-Za-z\\s]\",\"\",x)) \n",
    "    df[col] = df[col].apply(lambda x: x.replace(\"\\s+\",\" \"))\n",
    "    df[col] = df[col].apply(lambda x: \" \".join([word for word in x.split()]))\n",
    "    return df\n",
    "\n",
    "def TrueSentence_preprocessing(col) : \n",
    "    df[col] = df[col].astype(str) \n",
    "    df[col] = df[col].apply(lambda x:x.lower()) \n",
    "    df[col] = df[col].apply(lambda x : re.sub(\"\\n\",\"\",x)) \n",
    "    df[col] = df[col].apply(lambda x : remove_spaces(x)) \n",
    "    df[col] = df[col].apply(lambda x : re.sub(r\"\\.+\",\".\",x)) \n",
    "    df[col] = df[col].apply(lambda x : re.sub(r\"\\!+\",\"!\",x)) \n",
    "    df[col] = df[col].apply(lambda x : decontract(x)) \n",
    "    df[col] = df[col].apply(lambda x: re.sub(\"[^A-Za-z\\s]\",\"\",x)) \n",
    "    df[col] = df[col].apply(lambda x: re.sub(r'\\d','',x))\n",
    "    df[col] = df[col].apply(lambda x: re.sub(r'\\s+',' ',x))\n",
    "    df[col] = df[col].apply(lambda x: re.sub(r\"[-()\\\"#/@;:<>{}`+=~|.!?,।]\", \"\", x))\n",
    "    df[col] = df[col].apply(lambda x: x.strip())\n",
    "    # df[col] = \"<sos> \" + df[col] + \" <eos>\"\n",
    "    return df"
   ]
  },
  {
   "cell_type": "code",
   "execution_count": 288,
   "metadata": {},
   "outputs": [],
   "source": [
    "df = WrongSentence_preprocessing('Incorrect') \n",
    "df = TrueSentence_preprocessing('Correct')"
   ]
  },
  {
   "cell_type": "code",
   "execution_count": 291,
   "metadata": {},
   "outputs": [
    {
     "data": {
      "text/html": [
       "<div>\n",
       "<style scoped>\n",
       "    .dataframe tbody tr th:only-of-type {\n",
       "        vertical-align: middle;\n",
       "    }\n",
       "\n",
       "    .dataframe tbody tr th {\n",
       "        vertical-align: top;\n",
       "    }\n",
       "\n",
       "    .dataframe thead th {\n",
       "        text-align: right;\n",
       "    }\n",
       "</style>\n",
       "<table border=\"1\" class=\"dataframe\">\n",
       "  <thead>\n",
       "    <tr style=\"text-align: right;\">\n",
       "      <th></th>\n",
       "      <th>Incorrect</th>\n",
       "      <th>Correct</th>\n",
       "      <th>correct_char_count</th>\n",
       "      <th>incorrect_char_count</th>\n",
       "      <th>correct_word_count</th>\n",
       "      <th>incorrect_word_count</th>\n",
       "    </tr>\n",
       "  </thead>\n",
       "  <tbody>\n",
       "    <tr>\n",
       "      <th>84363</th>\n",
       "      <td>of hs codes that are eligible to us just aroun...</td>\n",
       "      <td>of hs codes that are eligible to the us only a...</td>\n",
       "      <td>93</td>\n",
       "      <td>89</td>\n",
       "      <td>19</td>\n",
       "      <td>18</td>\n",
       "    </tr>\n",
       "    <tr>\n",
       "      <th>89774</th>\n",
       "      <td>electric grill barbecue indoor camping portable</td>\n",
       "      <td>electric grill indoor barbecue camping portable</td>\n",
       "      <td>48</td>\n",
       "      <td>48</td>\n",
       "      <td>6</td>\n",
       "      <td>6</td>\n",
       "    </tr>\n",
       "    <tr>\n",
       "      <th>37324</th>\n",
       "      <td>she said most of the people who lived along th...</td>\n",
       "      <td>she said most of the people who live along the...</td>\n",
       "      <td>175</td>\n",
       "      <td>177</td>\n",
       "      <td>32</td>\n",
       "      <td>32</td>\n",
       "    </tr>\n",
       "    <tr>\n",
       "      <th>95360</th>\n",
       "      <td>the male pcw for brought dad out with to join ...</td>\n",
       "      <td>the male pcw then brought dad out to join us i...</td>\n",
       "      <td>58</td>\n",
       "      <td>59</td>\n",
       "      <td>13</td>\n",
       "      <td>13</td>\n",
       "    </tr>\n",
       "    <tr>\n",
       "      <th>9733</th>\n",
       "      <td>uziing the city anticipated so many site visit...</td>\n",
       "      <td>using the city anticipating so many site visit...</td>\n",
       "      <td>117</td>\n",
       "      <td>116</td>\n",
       "      <td>20</td>\n",
       "      <td>20</td>\n",
       "    </tr>\n",
       "    <tr>\n",
       "      <th>42391</th>\n",
       "      <td>if you can feel problems making the above mixc...</td>\n",
       "      <td>if you have problems using the above mixcloud ...</td>\n",
       "      <td>82</td>\n",
       "      <td>87</td>\n",
       "      <td>14</td>\n",
       "      <td>15</td>\n",
       "    </tr>\n",
       "    <tr>\n",
       "      <th>93807</th>\n",
       "      <td>summary this informational bulletin provides a...</td>\n",
       "      <td>summary this informational bulletin provides a...</td>\n",
       "      <td>214</td>\n",
       "      <td>212</td>\n",
       "      <td>26</td>\n",
       "      <td>26</td>\n",
       "    </tr>\n",
       "    <tr>\n",
       "      <th>63422</th>\n",
       "      <td>here is an example that i will be using throug...</td>\n",
       "      <td>here is an example that i will be using throug...</td>\n",
       "      <td>62</td>\n",
       "      <td>67</td>\n",
       "      <td>12</td>\n",
       "      <td>13</td>\n",
       "    </tr>\n",
       "    <tr>\n",
       "      <th>98430</th>\n",
       "      <td>what other issues can stand in your way</td>\n",
       "      <td>what other issues might stand in your way</td>\n",
       "      <td>42</td>\n",
       "      <td>40</td>\n",
       "      <td>8</td>\n",
       "      <td>8</td>\n",
       "    </tr>\n",
       "    <tr>\n",
       "      <th>47979</th>\n",
       "      <td>harry has avoided paying cgt at the rate of pe...</td>\n",
       "      <td>harry has avoided paying cgt at the rate of pe...</td>\n",
       "      <td>56</td>\n",
       "      <td>56</td>\n",
       "      <td>12</td>\n",
       "      <td>12</td>\n",
       "    </tr>\n",
       "  </tbody>\n",
       "</table>\n",
       "</div>"
      ],
      "text/plain": [
       "                                               Incorrect  \\\n",
       "84363  of hs codes that are eligible to us just aroun...   \n",
       "89774    electric grill barbecue indoor camping portable   \n",
       "37324  she said most of the people who lived along th...   \n",
       "95360  the male pcw for brought dad out with to join ...   \n",
       "9733   uziing the city anticipated so many site visit...   \n",
       "42391  if you can feel problems making the above mixc...   \n",
       "93807  summary this informational bulletin provides a...   \n",
       "63422  here is an example that i will be using throug...   \n",
       "98430            what other issues can stand in your way   \n",
       "47979  harry has avoided paying cgt at the rate of pe...   \n",
       "\n",
       "                                                 Correct  correct_char_count  \\\n",
       "84363  of hs codes that are eligible to the us only a...                  93   \n",
       "89774    electric grill indoor barbecue camping portable                  48   \n",
       "37324  she said most of the people who live along the...                 175   \n",
       "95360  the male pcw then brought dad out to join us i...                  58   \n",
       "9733   using the city anticipating so many site visit...                 117   \n",
       "42391  if you have problems using the above mixcloud ...                  82   \n",
       "93807  summary this informational bulletin provides a...                 214   \n",
       "63422  here is an example that i will be using throug...                  62   \n",
       "98430          what other issues might stand in your way                  42   \n",
       "47979  harry has avoided paying cgt at the rate of pe...                  56   \n",
       "\n",
       "       incorrect_char_count  correct_word_count  incorrect_word_count  \n",
       "84363                    89                  19                    18  \n",
       "89774                    48                   6                     6  \n",
       "37324                   177                  32                    32  \n",
       "95360                    59                  13                    13  \n",
       "9733                    116                  20                    20  \n",
       "42391                    87                  14                    15  \n",
       "93807                   212                  26                    26  \n",
       "63422                    67                  12                    13  \n",
       "98430                    40                   8                     8  \n",
       "47979                    56                  12                    12  "
      ]
     },
     "execution_count": 291,
     "metadata": {},
     "output_type": "execute_result"
    }
   ],
   "source": [
    "df.sample(10)"
   ]
  },
  {
   "cell_type": "code",
   "execution_count": 292,
   "metadata": {},
   "outputs": [],
   "source": [
    "df.to_csv('cleaned_data.csv', index=False)"
   ]
  },
  {
   "cell_type": "code",
   "execution_count": null,
   "metadata": {},
   "outputs": [],
   "source": []
  },
  {
   "cell_type": "code",
   "execution_count": null,
   "metadata": {},
   "outputs": [],
   "source": []
  }
 ],
 "metadata": {
  "kernelspec": {
   "display_name": "virtualenvNaraSpeak",
   "language": "python",
   "name": "python3"
  },
  "language_info": {
   "codemirror_mode": {
    "name": "ipython",
    "version": 3
   },
   "file_extension": ".py",
   "mimetype": "text/x-python",
   "name": "python",
   "nbconvert_exporter": "python",
   "pygments_lexer": "ipython3",
   "version": "3.10.11"
  }
 },
 "nbformat": 4,
 "nbformat_minor": 2
}
